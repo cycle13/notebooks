{
 "metadata": {
  "name": ""
 },
 "nbformat": 3,
 "nbformat_minor": 0,
 "worksheets": [
  {
   "cells": [
    {
     "cell_type": "code",
     "collapsed": false,
     "input": [
      "import pygrib\n",
      "from matplotlib import pyplot as plt\n",
      "import numpy as np\n",
      "%matoplotlib inline"
     ],
     "language": "python",
     "metadata": {},
     "outputs": [],
     "prompt_number": 1
    },
    {
     "cell_type": "code",
     "collapsed": false,
     "input": [
      "filename = '/data/hrrr.3d.201401211600f000.grib2'\n",
      "myfile = pygrib.open(filename)"
     ],
     "language": "python",
     "metadata": {},
     "outputs": [],
     "prompt_number": 2
    },
    {
     "cell_type": "code",
     "collapsed": false,
     "input": [
      "myfile.seek(0)\n",
      "for grb in myfile:\n",
      "    print grb"
     ],
     "language": "python",
     "metadata": {},
     "outputs": [
      {
       "output_type": "stream",
       "stream": "stdout",
       "text": [
        "1:Geopotential Height:gpm (instant):lambert:isobaricInhPa:level 5000 Pa:fcst time 0 hrs:from 201401211600\n",
        "2:Temperature:K (instant):lambert:isobaricInhPa:level 5000 Pa:fcst time 0 hrs:from 201401211600\n",
        "3:Relative humidity:% (instant):lambert:isobaricInhPa:level 5000 Pa:fcst time 0 hrs:from 201401211600\n",
        "4:Dew point temperature:K (instant):lambert:isobaricInhPa:level 5000 Pa:fcst time 0 hrs:from 201401211600\n",
        "5:Specific humidity:kg kg**-1 (instant):lambert:isobaricInhPa:level 5000 Pa:fcst time 0 hrs:from 201401211600\n",
        "6:Vertical velocity:Pa s**-1 (instant):lambert:isobaricInhPa:level 5000 Pa:fcst time 0 hrs:from 201401211600\n",
        "7:U component of wind:m s**-1 (instant):lambert:isobaricInhPa:level 5000 Pa:fcst time 0 hrs:from 201401211600\n",
        "8:V component of wind:m s**-1 (instant):lambert:isobaricInhPa:level 5000 Pa:fcst time 0 hrs:from 201401211600\n",
        "9:Absolute vorticity:s**-1 (instant):lambert:isobaricInhPa:level 5000 Pa:fcst time 0 hrs:from 201401211600\n",
        "10:Cloud mixing ratio:kg kg**-1 (instant):lambert:isobaricInhPa:level 5000 Pa:fcst time 0 hrs:from 201401211600\n",
        "11:Cloud Ice:kg m**-2 (instant):lambert:isobaricInhPa:level 5000 Pa:fcst time 0 hrs:from 201401211600\n",
        "12:Rain mixing ratio:kg kg**-1 (instant):lambert:isobaricInhPa:level 5000 Pa:fcst time 0 hrs:from 201401211600\n",
        "13:Snow mixing ratio:kg kg**-1 (instant):lambert:isobaricInhPa:level 5000 Pa:fcst time 0 hrs:from 201401211600\n",
        "14:Graupel (snow pellets):kg kg**-1 (instant):lambert:isobaricInhPa:level 5000 Pa:fcst time 0 hrs:from 201401211600"
       ]
      },
      {
       "output_type": "stream",
       "stream": "stdout",
       "text": [
        "\n",
        "15:Geopotential Height:gpm (instant):lambert:isobaricInhPa:level 7500 Pa:fcst time 0 hrs:from 201401211600\n",
        "16:Temperature:K (instant):lambert:isobaricInhPa:level 7500 Pa:fcst time 0 hrs:from 201401211600\n",
        "17:Relative humidity:% (instant):lambert:isobaricInhPa:level 7500 Pa:fcst time 0 hrs:from 201401211600\n",
        "18:Dew point temperature:K (instant):lambert:isobaricInhPa:level 7500 Pa:fcst time 0 hrs:from 201401211600\n",
        "19:Specific humidity:kg kg**-1 (instant):lambert:isobaricInhPa:level 7500 Pa:fcst time 0 hrs:from 201401211600\n",
        "20:Vertical velocity:Pa s**-1 (instant):lambert:isobaricInhPa:level 7500 Pa:fcst time 0 hrs:from 201401211600\n",
        "21:U component of wind:m s**-1 (instant):lambert:isobaricInhPa:level 7500 Pa:fcst time 0 hrs:from 201401211600\n",
        "22:V component of wind:m s**-1 (instant):lambert:isobaricInhPa:level 7500 Pa:fcst time 0 hrs:from 201401211600\n",
        "23:Absolute vorticity:s**-1 (instant):lambert:isobaricInhPa:level 7500 Pa:fcst time 0 hrs:from 201401211600\n",
        "24:Cloud mixing ratio:kg kg**-1 (instant):lambert:isobaricInhPa:level 7500 Pa:fcst time 0 hrs:from 201401211600\n",
        "25:Cloud Ice:kg m**-2 (instant):lambert:isobaricInhPa:level 7500 Pa:fcst time 0 hrs:from 201401211600\n",
        "26:Rain mixing ratio:kg kg**-1 (instant):lambert:isobaricInhPa:level 7500 Pa:fcst time 0 hrs:from 201401211600\n",
        "27:Snow mixing ratio:kg kg**-1 (instant):lambert:isobaricInhPa:level 7500 Pa:fcst time 0 hrs:from 201401211600"
       ]
      },
      {
       "output_type": "stream",
       "stream": "stdout",
       "text": [
        "\n",
        "28:Graupel (snow pellets):kg kg**-1 (instant):lambert:isobaricInhPa:level 7500 Pa:fcst time 0 hrs:from 201401211600\n",
        "29:Geopotential Height:gpm (instant):lambert:isobaricInhPa:level 10000 Pa:fcst time 0 hrs:from 201401211600\n",
        "30:Temperature:K (instant):lambert:isobaricInhPa:level 10000 Pa:fcst time 0 hrs:from 201401211600\n",
        "31:Relative humidity:% (instant):lambert:isobaricInhPa:level 10000 Pa:fcst time 0 hrs:from 201401211600\n",
        "32:Dew point temperature:K (instant):lambert:isobaricInhPa:level 10000 Pa:fcst time 0 hrs:from 201401211600\n",
        "33:Specific humidity:kg kg**-1 (instant):lambert:isobaricInhPa:level 10000 Pa:fcst time 0 hrs:from 201401211600\n",
        "34:Vertical velocity:Pa s**-1 (instant):lambert:isobaricInhPa:level 10000 Pa:fcst time 0 hrs:from 201401211600\n",
        "35:U component of wind:m s**-1 (instant):lambert:isobaricInhPa:level 10000 Pa:fcst time 0 hrs:from 201401211600\n",
        "36:V component of wind:m s**-1 (instant):lambert:isobaricInhPa:level 10000 Pa:fcst time 0 hrs:from 201401211600\n",
        "37:Absolute vorticity:s**-1 (instant):lambert:isobaricInhPa:level 10000 Pa:fcst time 0 hrs:from 201401211600\n",
        "38:Cloud mixing ratio:kg kg**-1 (instant):lambert:isobaricInhPa:level 10000 Pa:fcst time 0 hrs:from 201401211600\n",
        "39:Cloud Ice:kg m**-2 (instant):lambert:isobaricInhPa:level 10000 Pa:fcst time 0 hrs:from 201401211600\n",
        "40:Rain mixing ratio:kg kg**-1 (instant):lambert:isobaricInhPa:level 10000 Pa:fcst time 0 hrs:from 201401211600\n",
        "41:Snow mixing ratio:kg kg**-1 (instant):lambert:isobaricInhPa:level 10000 Pa:fcst time 0 hrs:from 201401211600"
       ]
      },
      {
       "output_type": "stream",
       "stream": "stdout",
       "text": [
        "\n",
        "42:Graupel (snow pellets):kg kg**-1 (instant):lambert:isobaricInhPa:level 10000 Pa:fcst time 0 hrs:from 201401211600\n",
        "43:Geopotential Height:gpm (instant):lambert:isobaricInhPa:level 12500 Pa:fcst time 0 hrs:from 201401211600\n",
        "44:Temperature:K (instant):lambert:isobaricInhPa:level 12500 Pa:fcst time 0 hrs:from 201401211600\n",
        "45:Relative humidity:% (instant):lambert:isobaricInhPa:level 12500 Pa:fcst time 0 hrs:from 201401211600\n",
        "46:Dew point temperature:K (instant):lambert:isobaricInhPa:level 12500 Pa:fcst time 0 hrs:from 201401211600\n",
        "47:Specific humidity:kg kg**-1 (instant):lambert:isobaricInhPa:level 12500 Pa:fcst time 0 hrs:from 201401211600\n",
        "48:Vertical velocity:Pa s**-1 (instant):lambert:isobaricInhPa:level 12500 Pa:fcst time 0 hrs:from 201401211600\n",
        "49:U component of wind:m s**-1 (instant):lambert:isobaricInhPa:level 12500 Pa:fcst time 0 hrs:from 201401211600\n",
        "50:V component of wind:m s**-1 (instant):lambert:isobaricInhPa:level 12500 Pa:fcst time 0 hrs:from 201401211600\n",
        "51:Absolute vorticity:s**-1 (instant):lambert:isobaricInhPa:level 12500 Pa:fcst time 0 hrs:from 201401211600\n",
        "52:Cloud mixing ratio:kg kg**-1 (instant):lambert:isobaricInhPa:level 12500 Pa:fcst time 0 hrs:from 201401211600\n",
        "53:Cloud Ice:kg m**-2 (instant):lambert:isobaricInhPa:level 12500 Pa:fcst time 0 hrs:from 201401211600\n",
        "54:Rain mixing ratio:kg kg**-1 (instant):lambert:isobaricInhPa:level 12500 Pa:fcst time 0 hrs:from 201401211600\n",
        "55:Snow mixing ratio:kg kg**-1 (instant):lambert:isobaricInhPa:level 12500 Pa:fcst time 0 hrs:from 201401211600\n",
        "56:Graupel (snow pellets):kg kg**-1 (instant):lambert:isobaricInhPa:level 12500 Pa:fcst time 0 hrs:from 201401211600"
       ]
      },
      {
       "output_type": "stream",
       "stream": "stdout",
       "text": [
        "\n",
        "57:Geopotential Height:gpm (instant):lambert:isobaricInhPa:level 15000 Pa:fcst time 0 hrs:from 201401211600\n",
        "58:Temperature:K (instant):lambert:isobaricInhPa:level 15000 Pa:fcst time 0 hrs:from 201401211600\n",
        "59:Relative humidity:% (instant):lambert:isobaricInhPa:level 15000 Pa:fcst time 0 hrs:from 201401211600\n",
        "60:Dew point temperature:K (instant):lambert:isobaricInhPa:level 15000 Pa:fcst time 0 hrs:from 201401211600\n",
        "61:Specific humidity:kg kg**-1 (instant):lambert:isobaricInhPa:level 15000 Pa:fcst time 0 hrs:from 201401211600\n",
        "62:Vertical velocity:Pa s**-1 (instant):lambert:isobaricInhPa:level 15000 Pa:fcst time 0 hrs:from 201401211600\n",
        "63:U component of wind:m s**-1 (instant):lambert:isobaricInhPa:level 15000 Pa:fcst time 0 hrs:from 201401211600\n",
        "64:V component of wind:m s**-1 (instant):lambert:isobaricInhPa:level 15000 Pa:fcst time 0 hrs:from 201401211600\n",
        "65:Absolute vorticity:s**-1 (instant):lambert:isobaricInhPa:level 15000 Pa:fcst time 0 hrs:from 201401211600\n",
        "66:Cloud mixing ratio:kg kg**-1 (instant):lambert:isobaricInhPa:level 15000 Pa:fcst time 0 hrs:from 201401211600\n",
        "67:Cloud Ice:kg m**-2 (instant):lambert:isobaricInhPa:level 15000 Pa:fcst time 0 hrs:from 201401211600\n",
        "68:Rain mixing ratio:kg kg**-1 (instant):lambert:isobaricInhPa:level 15000 Pa:fcst time 0 hrs:from 201401211600\n",
        "69:Snow mixing ratio:kg kg**-1 (instant):lambert:isobaricInhPa:level 15000 Pa:fcst time 0 hrs:from 201401211600\n",
        "70:Graupel (snow pellets):kg kg**-1 (instant):lambert:isobaricInhPa:level 15000 Pa:fcst time 0 hrs:from 201401211600"
       ]
      },
      {
       "output_type": "stream",
       "stream": "stdout",
       "text": [
        "\n",
        "71:Geopotential Height:gpm (instant):lambert:isobaricInhPa:level 17500 Pa:fcst time 0 hrs:from 201401211600\n",
        "72:Temperature:K (instant):lambert:isobaricInhPa:level 17500 Pa:fcst time 0 hrs:from 201401211600\n",
        "73:Relative humidity:% (instant):lambert:isobaricInhPa:level 17500 Pa:fcst time 0 hrs:from 201401211600\n",
        "74:Dew point temperature:K (instant):lambert:isobaricInhPa:level 17500 Pa:fcst time 0 hrs:from 201401211600\n",
        "75:Specific humidity:kg kg**-1 (instant):lambert:isobaricInhPa:level 17500 Pa:fcst time 0 hrs:from 201401211600\n",
        "76:Vertical velocity:Pa s**-1 (instant):lambert:isobaricInhPa:level 17500 Pa:fcst time 0 hrs:from 201401211600\n",
        "77:U component of wind:m s**-1 (instant):lambert:isobaricInhPa:level 17500 Pa:fcst time 0 hrs:from 201401211600\n",
        "78:V component of wind:m s**-1 (instant):lambert:isobaricInhPa:level 17500 Pa:fcst time 0 hrs:from 201401211600\n",
        "79:Absolute vorticity:s**-1 (instant):lambert:isobaricInhPa:level 17500 Pa:fcst time 0 hrs:from 201401211600\n",
        "80:Cloud mixing ratio:kg kg**-1 (instant):lambert:isobaricInhPa:level 17500 Pa:fcst time 0 hrs:from 201401211600\n",
        "81:Cloud Ice:kg m**-2 (instant):lambert:isobaricInhPa:level 17500 Pa:fcst time 0 hrs:from 201401211600\n",
        "82:Rain mixing ratio:kg kg**-1 (instant):lambert:isobaricInhPa:level 17500 Pa:fcst time 0 hrs:from 201401211600\n",
        "83:Snow mixing ratio:kg kg**-1 (instant):lambert:isobaricInhPa:level 17500 Pa:fcst time 0 hrs:from 201401211600\n",
        "84:Graupel (snow pellets):kg kg**-1 (instant):lambert:isobaricInhPa:level 17500 Pa:fcst time 0 hrs:from 201401211600"
       ]
      },
      {
       "output_type": "stream",
       "stream": "stdout",
       "text": [
        "\n",
        "85:Geopotential Height:gpm (instant):lambert:isobaricInhPa:level 20000 Pa:fcst time 0 hrs:from 201401211600\n",
        "86:Temperature:K (instant):lambert:isobaricInhPa:level 20000 Pa:fcst time 0 hrs:from 201401211600\n",
        "87:Relative humidity:% (instant):lambert:isobaricInhPa:level 20000 Pa:fcst time 0 hrs:from 201401211600\n",
        "88:Dew point temperature:K (instant):lambert:isobaricInhPa:level 20000 Pa:fcst time 0 hrs:from 201401211600\n",
        "89:Specific humidity:kg kg**-1 (instant):lambert:isobaricInhPa:level 20000 Pa:fcst time 0 hrs:from 201401211600\n",
        "90:Vertical velocity:Pa s**-1 (instant):lambert:isobaricInhPa:level 20000 Pa:fcst time 0 hrs:from 201401211600\n",
        "91:U component of wind:m s**-1 (instant):lambert:isobaricInhPa:level 20000 Pa:fcst time 0 hrs:from 201401211600\n",
        "92:V component of wind:m s**-1 (instant):lambert:isobaricInhPa:level 20000 Pa:fcst time 0 hrs:from 201401211600\n",
        "93:Absolute vorticity:s**-1 (instant):lambert:isobaricInhPa:level 20000 Pa:fcst time 0 hrs:from 201401211600\n",
        "94:Cloud mixing ratio:kg kg**-1 (instant):lambert:isobaricInhPa:level 20000 Pa:fcst time 0 hrs:from 201401211600\n",
        "95:Cloud Ice:kg m**-2 (instant):lambert:isobaricInhPa:level 20000 Pa:fcst time 0 hrs:from 201401211600\n",
        "96:Rain mixing ratio:kg kg**-1 (instant):lambert:isobaricInhPa:level 20000 Pa:fcst time 0 hrs:from 201401211600"
       ]
      },
      {
       "output_type": "stream",
       "stream": "stdout",
       "text": [
        "\n",
        "97:Snow mixing ratio:kg kg**-1 (instant):lambert:isobaricInhPa:level 20000 Pa:fcst time 0 hrs:from 201401211600\n",
        "98:Graupel (snow pellets):kg kg**-1 (instant):lambert:isobaricInhPa:level 20000 Pa:fcst time 0 hrs:from 201401211600\n",
        "99:Geopotential Height:gpm (instant):lambert:isobaricInhPa:level 22500 Pa:fcst time 0 hrs:from 201401211600\n",
        "100:Temperature:K (instant):lambert:isobaricInhPa:level 22500 Pa:fcst time 0 hrs:from 201401211600\n",
        "101:Relative humidity:% (instant):lambert:isobaricInhPa:level 22500 Pa:fcst time 0 hrs:from 201401211600\n",
        "102:Dew point temperature:K (instant):lambert:isobaricInhPa:level 22500 Pa:fcst time 0 hrs:from 201401211600\n",
        "103:Specific humidity:kg kg**-1 (instant):lambert:isobaricInhPa:level 22500 Pa:fcst time 0 hrs:from 201401211600\n",
        "104:Vertical velocity:Pa s**-1 (instant):lambert:isobaricInhPa:level 22500 Pa:fcst time 0 hrs:from 201401211600\n",
        "105:U component of wind:m s**-1 (instant):lambert:isobaricInhPa:level 22500 Pa:fcst time 0 hrs:from 201401211600\n",
        "106:V component of wind:m s**-1 (instant):lambert:isobaricInhPa:level 22500 Pa:fcst time 0 hrs:from 201401211600\n",
        "107:Absolute vorticity:s**-1 (instant):lambert:isobaricInhPa:level 22500 Pa:fcst time 0 hrs:from 201401211600\n",
        "108:Cloud mixing ratio:kg kg**-1 (instant):lambert:isobaricInhPa:level 22500 Pa:fcst time 0 hrs:from 201401211600"
       ]
      },
      {
       "output_type": "stream",
       "stream": "stdout",
       "text": [
        "\n",
        "109:Cloud Ice:kg m**-2 (instant):lambert:isobaricInhPa:level 22500 Pa:fcst time 0 hrs:from 201401211600\n",
        "110:Rain mixing ratio:kg kg**-1 (instant):lambert:isobaricInhPa:level 22500 Pa:fcst time 0 hrs:from 201401211600\n",
        "111:Snow mixing ratio:kg kg**-1 (instant):lambert:isobaricInhPa:level 22500 Pa:fcst time 0 hrs:from 201401211600\n",
        "112:Graupel (snow pellets):kg kg**-1 (instant):lambert:isobaricInhPa:level 22500 Pa:fcst time 0 hrs:from 201401211600\n",
        "113:Geopotential Height:gpm (instant):lambert:isobaricInhPa:level 25000 Pa:fcst time 0 hrs:from 201401211600\n",
        "114:Temperature:K (instant):lambert:isobaricInhPa:level 25000 Pa:fcst time 0 hrs:from 201401211600\n",
        "115:Relative humidity:% (instant):lambert:isobaricInhPa:level 25000 Pa:fcst time 0 hrs:from 201401211600\n",
        "116:Dew point temperature:K (instant):lambert:isobaricInhPa:level 25000 Pa:fcst time 0 hrs:from 201401211600\n",
        "117:Specific humidity:kg kg**-1 (instant):lambert:isobaricInhPa:level 25000 Pa:fcst time 0 hrs:from 201401211600\n",
        "118:Vertical velocity:Pa s**-1 (instant):lambert:isobaricInhPa:level 25000 Pa:fcst time 0 hrs:from 201401211600\n",
        "119:U component of wind:m s**-1 (instant):lambert:isobaricInhPa:level 25000 Pa:fcst time 0 hrs:from 201401211600\n",
        "120:V component of wind:m s**-1 (instant):lambert:isobaricInhPa:level 25000 Pa:fcst time 0 hrs:from 201401211600"
       ]
      },
      {
       "output_type": "stream",
       "stream": "stdout",
       "text": [
        "\n",
        "121:Absolute vorticity:s**-1 (instant):lambert:isobaricInhPa:level 25000 Pa:fcst time 0 hrs:from 201401211600\n",
        "122:Cloud mixing ratio:kg kg**-1 (instant):lambert:isobaricInhPa:level 25000 Pa:fcst time 0 hrs:from 201401211600\n",
        "123:Cloud Ice:kg m**-2 (instant):lambert:isobaricInhPa:level 25000 Pa:fcst time 0 hrs:from 201401211600\n",
        "124:Rain mixing ratio:kg kg**-1 (instant):lambert:isobaricInhPa:level 25000 Pa:fcst time 0 hrs:from 201401211600\n",
        "125:Snow mixing ratio:kg kg**-1 (instant):lambert:isobaricInhPa:level 25000 Pa:fcst time 0 hrs:from 201401211600\n",
        "126:Graupel (snow pellets):kg kg**-1 (instant):lambert:isobaricInhPa:level 25000 Pa:fcst time 0 hrs:from 201401211600\n",
        "127:Geopotential Height:gpm (instant):lambert:isobaricInhPa:level 27500 Pa:fcst time 0 hrs:from 201401211600\n",
        "128:Temperature:K (instant):lambert:isobaricInhPa:level 27500 Pa:fcst time 0 hrs:from 201401211600\n",
        "129:Relative humidity:% (instant):lambert:isobaricInhPa:level 27500 Pa:fcst time 0 hrs:from 201401211600\n",
        "130:Dew point temperature:K (instant):lambert:isobaricInhPa:level 27500 Pa:fcst time 0 hrs:from 201401211600\n",
        "131:Specific humidity:kg kg**-1 (instant):lambert:isobaricInhPa:level 27500 Pa:fcst time 0 hrs:from 201401211600\n",
        "132:Vertical velocity:Pa s**-1 (instant):lambert:isobaricInhPa:level 27500 Pa:fcst time 0 hrs:from 201401211600\n",
        "133:U component of wind:m s**-1 (instant):lambert:isobaricInhPa:level 27500 Pa:fcst time 0 hrs:from 201401211600\n",
        "134:V component of wind:m s**-1 (instant):lambert:isobaricInhPa:level 27500 Pa:fcst time 0 hrs:from 201401211600"
       ]
      },
      {
       "output_type": "stream",
       "stream": "stdout",
       "text": [
        "\n",
        "135:Absolute vorticity:s**-1 (instant):lambert:isobaricInhPa:level 27500 Pa:fcst time 0 hrs:from 201401211600\n",
        "136:Cloud mixing ratio:kg kg**-1 (instant):lambert:isobaricInhPa:level 27500 Pa:fcst time 0 hrs:from 201401211600\n",
        "137:Cloud Ice:kg m**-2 (instant):lambert:isobaricInhPa:level 27500 Pa:fcst time 0 hrs:from 201401211600\n",
        "138:Rain mixing ratio:kg kg**-1 (instant):lambert:isobaricInhPa:level 27500 Pa:fcst time 0 hrs:from 201401211600\n",
        "139:Snow mixing ratio:kg kg**-1 (instant):lambert:isobaricInhPa:level 27500 Pa:fcst time 0 hrs:from 201401211600\n",
        "140:Graupel (snow pellets):kg kg**-1 (instant):lambert:isobaricInhPa:level 27500 Pa:fcst time 0 hrs:from 201401211600\n",
        "141:Geopotential Height:gpm (instant):lambert:isobaricInhPa:level 30000 Pa:fcst time 0 hrs:from 201401211600\n",
        "142:Temperature:K (instant):lambert:isobaricInhPa:level 30000 Pa:fcst time 0 hrs:from 201401211600\n",
        "143:Relative humidity:% (instant):lambert:isobaricInhPa:level 30000 Pa:fcst time 0 hrs:from 201401211600\n",
        "144:Dew point temperature:K (instant):lambert:isobaricInhPa:level 30000 Pa:fcst time 0 hrs:from 201401211600\n",
        "145:Specific humidity:kg kg**-1 (instant):lambert:isobaricInhPa:level 30000 Pa:fcst time 0 hrs:from 201401211600\n",
        "146:Vertical velocity:Pa s**-1 (instant):lambert:isobaricInhPa:level 30000 Pa:fcst time 0 hrs:from 201401211600\n",
        "147:U component of wind:m s**-1 (instant):lambert:isobaricInhPa:level 30000 Pa:fcst time 0 hrs:from 201401211600"
       ]
      },
      {
       "output_type": "stream",
       "stream": "stdout",
       "text": [
        "\n",
        "148:V component of wind:m s**-1 (instant):lambert:isobaricInhPa:level 30000 Pa:fcst time 0 hrs:from 201401211600\n",
        "149:Absolute vorticity:s**-1 (instant):lambert:isobaricInhPa:level 30000 Pa:fcst time 0 hrs:from 201401211600\n",
        "150:Cloud mixing ratio:kg kg**-1 (instant):lambert:isobaricInhPa:level 30000 Pa:fcst time 0 hrs:from 201401211600\n",
        "151:Cloud Ice:kg m**-2 (instant):lambert:isobaricInhPa:level 30000 Pa:fcst time 0 hrs:from 201401211600\n",
        "152:Rain mixing ratio:kg kg**-1 (instant):lambert:isobaricInhPa:level 30000 Pa:fcst time 0 hrs:from 201401211600\n",
        "153:Snow mixing ratio:kg kg**-1 (instant):lambert:isobaricInhPa:level 30000 Pa:fcst time 0 hrs:from 201401211600\n",
        "154:Graupel (snow pellets):kg kg**-1 (instant):lambert:isobaricInhPa:level 30000 Pa:fcst time 0 hrs:from 201401211600\n",
        "155:Geopotential Height:gpm (instant):lambert:isobaricInhPa:level 32500 Pa:fcst time 0 hrs:from 201401211600\n",
        "156:Temperature:K (instant):lambert:isobaricInhPa:level 32500 Pa:fcst time 0 hrs:from 201401211600\n",
        "157:Relative humidity:% (instant):lambert:isobaricInhPa:level 32500 Pa:fcst time 0 hrs:from 201401211600\n",
        "158:Dew point temperature:K (instant):lambert:isobaricInhPa:level 32500 Pa:fcst time 0 hrs:from 201401211600\n",
        "159:Specific humidity:kg kg**-1 (instant):lambert:isobaricInhPa:level 32500 Pa:fcst time 0 hrs:from 201401211600\n",
        "160:Vertical velocity:Pa s**-1 (instant):lambert:isobaricInhPa:level 32500 Pa:fcst time 0 hrs:from 201401211600\n",
        "161:U component of wind:m s**-1 (instant):lambert:isobaricInhPa:level 32500 Pa:fcst time 0 hrs:from 201401211600"
       ]
      },
      {
       "output_type": "stream",
       "stream": "stdout",
       "text": [
        "\n",
        "162:V component of wind:m s**-1 (instant):lambert:isobaricInhPa:level 32500 Pa:fcst time 0 hrs:from 201401211600\n",
        "163:Absolute vorticity:s**-1 (instant):lambert:isobaricInhPa:level 32500 Pa:fcst time 0 hrs:from 201401211600\n",
        "164:Cloud mixing ratio:kg kg**-1 (instant):lambert:isobaricInhPa:level 32500 Pa:fcst time 0 hrs:from 201401211600\n",
        "165:Cloud Ice:kg m**-2 (instant):lambert:isobaricInhPa:level 32500 Pa:fcst time 0 hrs:from 201401211600\n",
        "166:Rain mixing ratio:kg kg**-1 (instant):lambert:isobaricInhPa:level 32500 Pa:fcst time 0 hrs:from 201401211600\n",
        "167:Snow mixing ratio:kg kg**-1 (instant):lambert:isobaricInhPa:level 32500 Pa:fcst time 0 hrs:from 201401211600\n",
        "168:Graupel (snow pellets):kg kg**-1 (instant):lambert:isobaricInhPa:level 32500 Pa:fcst time 0 hrs:from 201401211600\n",
        "169:Geopotential Height:gpm (instant):lambert:isobaricInhPa:level 35000 Pa:fcst time 0 hrs:from 201401211600\n",
        "170:Temperature:K (instant):lambert:isobaricInhPa:level 35000 Pa:fcst time 0 hrs:from 201401211600\n",
        "171:Relative humidity:% (instant):lambert:isobaricInhPa:level 35000 Pa:fcst time 0 hrs:from 201401211600\n",
        "172:Dew point temperature:K (instant):lambert:isobaricInhPa:level 35000 Pa:fcst time 0 hrs:from 201401211600\n",
        "173:Specific humidity:kg kg**-1 (instant):lambert:isobaricInhPa:level 35000 Pa:fcst time 0 hrs:from 201401211600\n",
        "174:Vertical velocity:Pa s**-1 (instant):lambert:isobaricInhPa:level 35000 Pa:fcst time 0 hrs:from 201401211600"
       ]
      },
      {
       "output_type": "stream",
       "stream": "stdout",
       "text": [
        "\n",
        "175:U component of wind:m s**-1 (instant):lambert:isobaricInhPa:level 35000 Pa:fcst time 0 hrs:from 201401211600\n",
        "176:V component of wind:m s**-1 (instant):lambert:isobaricInhPa:level 35000 Pa:fcst time 0 hrs:from 201401211600\n",
        "177:Absolute vorticity:s**-1 (instant):lambert:isobaricInhPa:level 35000 Pa:fcst time 0 hrs:from 201401211600\n",
        "178:Cloud mixing ratio:kg kg**-1 (instant):lambert:isobaricInhPa:level 35000 Pa:fcst time 0 hrs:from 201401211600\n",
        "179:Cloud Ice:kg m**-2 (instant):lambert:isobaricInhPa:level 35000 Pa:fcst time 0 hrs:from 201401211600\n",
        "180:Rain mixing ratio:kg kg**-1 (instant):lambert:isobaricInhPa:level 35000 Pa:fcst time 0 hrs:from 201401211600\n",
        "181:Snow mixing ratio:kg kg**-1 (instant):lambert:isobaricInhPa:level 35000 Pa:fcst time 0 hrs:from 201401211600\n",
        "182:Graupel (snow pellets):kg kg**-1 (instant):lambert:isobaricInhPa:level 35000 Pa:fcst time 0 hrs:from 201401211600\n",
        "183:Geopotential Height:gpm (instant):lambert:isobaricInhPa:level 37500 Pa:fcst time 0 hrs:from 201401211600\n",
        "184:Temperature:K (instant):lambert:isobaricInhPa:level 37500 Pa:fcst time 0 hrs:from 201401211600\n",
        "185:Relative humidity:% (instant):lambert:isobaricInhPa:level 37500 Pa:fcst time 0 hrs:from 201401211600"
       ]
      },
      {
       "output_type": "stream",
       "stream": "stdout",
       "text": [
        "\n",
        "186:Dew point temperature:K (instant):lambert:isobaricInhPa:level 37500 Pa:fcst time 0 hrs:from 201401211600\n",
        "187:Specific humidity:kg kg**-1 (instant):lambert:isobaricInhPa:level 37500 Pa:fcst time 0 hrs:from 201401211600\n",
        "188:Vertical velocity:Pa s**-1 (instant):lambert:isobaricInhPa:level 37500 Pa:fcst time 0 hrs:from 201401211600\n",
        "189:U component of wind:m s**-1 (instant):lambert:isobaricInhPa:level 37500 Pa:fcst time 0 hrs:from 201401211600\n",
        "190:V component of wind:m s**-1 (instant):lambert:isobaricInhPa:level 37500 Pa:fcst time 0 hrs:from 201401211600\n",
        "191:Absolute vorticity:s**-1 (instant):lambert:isobaricInhPa:level 37500 Pa:fcst time 0 hrs:from 201401211600\n",
        "192:Cloud mixing ratio:kg kg**-1 (instant):lambert:isobaricInhPa:level 37500 Pa:fcst time 0 hrs:from 201401211600\n",
        "193:Cloud Ice:kg m**-2 (instant):lambert:isobaricInhPa:level 37500 Pa:fcst time 0 hrs:from 201401211600\n",
        "194:Rain mixing ratio:kg kg**-1 (instant):lambert:isobaricInhPa:level 37500 Pa:fcst time 0 hrs:from 201401211600\n",
        "195:Snow mixing ratio:kg kg**-1 (instant):lambert:isobaricInhPa:level 37500 Pa:fcst time 0 hrs:from 201401211600\n",
        "196:Graupel (snow pellets):kg kg**-1 (instant):lambert:isobaricInhPa:level 37500 Pa:fcst time 0 hrs:from 201401211600\n",
        "197:Geopotential Height:gpm (instant):lambert:isobaricInhPa:level 40000 Pa:fcst time 0 hrs:from 201401211600"
       ]
      },
      {
       "output_type": "stream",
       "stream": "stdout",
       "text": [
        "\n",
        "198:Temperature:K (instant):lambert:isobaricInhPa:level 40000 Pa:fcst time 0 hrs:from 201401211600\n",
        "199:Relative humidity:% (instant):lambert:isobaricInhPa:level 40000 Pa:fcst time 0 hrs:from 201401211600\n",
        "200:Dew point temperature:K (instant):lambert:isobaricInhPa:level 40000 Pa:fcst time 0 hrs:from 201401211600\n",
        "201:Specific humidity:kg kg**-1 (instant):lambert:isobaricInhPa:level 40000 Pa:fcst time 0 hrs:from 201401211600\n",
        "202:Vertical velocity:Pa s**-1 (instant):lambert:isobaricInhPa:level 40000 Pa:fcst time 0 hrs:from 201401211600\n",
        "203:U component of wind:m s**-1 (instant):lambert:isobaricInhPa:level 40000 Pa:fcst time 0 hrs:from 201401211600\n",
        "204:V component of wind:m s**-1 (instant):lambert:isobaricInhPa:level 40000 Pa:fcst time 0 hrs:from 201401211600\n",
        "205:Absolute vorticity:s**-1 (instant):lambert:isobaricInhPa:level 40000 Pa:fcst time 0 hrs:from 201401211600\n",
        "206:Cloud mixing ratio:kg kg**-1 (instant):lambert:isobaricInhPa:level 40000 Pa:fcst time 0 hrs:from 201401211600\n",
        "207:Cloud Ice:kg m**-2 (instant):lambert:isobaricInhPa:level 40000 Pa:fcst time 0 hrs:from 201401211600\n",
        "208:Rain mixing ratio:kg kg**-1 (instant):lambert:isobaricInhPa:level 40000 Pa:fcst time 0 hrs:from 201401211600\n",
        "209:Snow mixing ratio:kg kg**-1 (instant):lambert:isobaricInhPa:level 40000 Pa:fcst time 0 hrs:from 201401211600\n",
        "210:Graupel (snow pellets):kg kg**-1 (instant):lambert:isobaricInhPa:level 40000 Pa:fcst time 0 hrs:from 201401211600\n",
        "211:Geopotential Height:gpm (instant):lambert:isobaricInhPa:level 42500 Pa:fcst time 0 hrs:from 201401211600"
       ]
      },
      {
       "output_type": "stream",
       "stream": "stdout",
       "text": [
        "\n",
        "212:Temperature:K (instant):lambert:isobaricInhPa:level 42500 Pa:fcst time 0 hrs:from 201401211600\n",
        "213:Relative humidity:% (instant):lambert:isobaricInhPa:level 42500 Pa:fcst time 0 hrs:from 201401211600\n",
        "214:Dew point temperature:K (instant):lambert:isobaricInhPa:level 42500 Pa:fcst time 0 hrs:from 201401211600\n",
        "215:Specific humidity:kg kg**-1 (instant):lambert:isobaricInhPa:level 42500 Pa:fcst time 0 hrs:from 201401211600\n",
        "216:Vertical velocity:Pa s**-1 (instant):lambert:isobaricInhPa:level 42500 Pa:fcst time 0 hrs:from 201401211600\n",
        "217:U component of wind:m s**-1 (instant):lambert:isobaricInhPa:level 42500 Pa:fcst time 0 hrs:from 201401211600\n",
        "218:V component of wind:m s**-1 (instant):lambert:isobaricInhPa:level 42500 Pa:fcst time 0 hrs:from 201401211600\n",
        "219:Absolute vorticity:s**-1 (instant):lambert:isobaricInhPa:level 42500 Pa:fcst time 0 hrs:from 201401211600\n",
        "220:Cloud mixing ratio:kg kg**-1 (instant):lambert:isobaricInhPa:level 42500 Pa:fcst time 0 hrs:from 201401211600\n",
        "221:Cloud Ice:kg m**-2 (instant):lambert:isobaricInhPa:level 42500 Pa:fcst time 0 hrs:from 201401211600\n",
        "222:Rain mixing ratio:kg kg**-1 (instant):lambert:isobaricInhPa:level 42500 Pa:fcst time 0 hrs:from 201401211600\n",
        "223:Snow mixing ratio:kg kg**-1 (instant):lambert:isobaricInhPa:level 42500 Pa:fcst time 0 hrs:from 201401211600\n",
        "224:Graupel (snow pellets):kg kg**-1 (instant):lambert:isobaricInhPa:level 42500 Pa:fcst time 0 hrs:from 201401211600\n",
        "225:Geopotential Height:gpm (instant):lambert:isobaricInhPa:level 45000 Pa:fcst time 0 hrs:from 201401211600"
       ]
      },
      {
       "output_type": "stream",
       "stream": "stdout",
       "text": [
        "\n",
        "226:Temperature:K (instant):lambert:isobaricInhPa:level 45000 Pa:fcst time 0 hrs:from 201401211600\n",
        "227:Relative humidity:% (instant):lambert:isobaricInhPa:level 45000 Pa:fcst time 0 hrs:from 201401211600\n",
        "228:Dew point temperature:K (instant):lambert:isobaricInhPa:level 45000 Pa:fcst time 0 hrs:from 201401211600\n",
        "229:Specific humidity:kg kg**-1 (instant):lambert:isobaricInhPa:level 45000 Pa:fcst time 0 hrs:from 201401211600\n",
        "230:Vertical velocity:Pa s**-1 (instant):lambert:isobaricInhPa:level 45000 Pa:fcst time 0 hrs:from 201401211600\n",
        "231:U component of wind:m s**-1 (instant):lambert:isobaricInhPa:level 45000 Pa:fcst time 0 hrs:from 201401211600\n",
        "232:V component of wind:m s**-1 (instant):lambert:isobaricInhPa:level 45000 Pa:fcst time 0 hrs:from 201401211600\n",
        "233:Absolute vorticity:s**-1 (instant):lambert:isobaricInhPa:level 45000 Pa:fcst time 0 hrs:from 201401211600\n",
        "234:Cloud mixing ratio:kg kg**-1 (instant):lambert:isobaricInhPa:level 45000 Pa:fcst time 0 hrs:from 201401211600\n",
        "235:Cloud Ice:kg m**-2 (instant):lambert:isobaricInhPa:level 45000 Pa:fcst time 0 hrs:from 201401211600\n",
        "236:Rain mixing ratio:kg kg**-1 (instant):lambert:isobaricInhPa:level 45000 Pa:fcst time 0 hrs:from 201401211600\n",
        "237:Snow mixing ratio:kg kg**-1 (instant):lambert:isobaricInhPa:level 45000 Pa:fcst time 0 hrs:from 201401211600\n",
        "238:Graupel (snow pellets):kg kg**-1 (instant):lambert:isobaricInhPa:level 45000 Pa:fcst time 0 hrs:from 201401211600"
       ]
      },
      {
       "output_type": "stream",
       "stream": "stdout",
       "text": [
        "\n",
        "239:Geopotential Height:gpm (instant):lambert:isobaricInhPa:level 47500 Pa:fcst time 0 hrs:from 201401211600\n",
        "240:Temperature:K (instant):lambert:isobaricInhPa:level 47500 Pa:fcst time 0 hrs:from 201401211600\n",
        "241:Relative humidity:% (instant):lambert:isobaricInhPa:level 47500 Pa:fcst time 0 hrs:from 201401211600\n",
        "242:Dew point temperature:K (instant):lambert:isobaricInhPa:level 47500 Pa:fcst time 0 hrs:from 201401211600\n",
        "243:Specific humidity:kg kg**-1 (instant):lambert:isobaricInhPa:level 47500 Pa:fcst time 0 hrs:from 201401211600\n",
        "244:Vertical velocity:Pa s**-1 (instant):lambert:isobaricInhPa:level 47500 Pa:fcst time 0 hrs:from 201401211600\n",
        "245:U component of wind:m s**-1 (instant):lambert:isobaricInhPa:level 47500 Pa:fcst time 0 hrs:from 201401211600\n",
        "246:V component of wind:m s**-1 (instant):lambert:isobaricInhPa:level 47500 Pa:fcst time 0 hrs:from 201401211600\n",
        "247:Absolute vorticity:s**-1 (instant):lambert:isobaricInhPa:level 47500 Pa:fcst time 0 hrs:from 201401211600\n",
        "248:Cloud mixing ratio:kg kg**-1 (instant):lambert:isobaricInhPa:level 47500 Pa:fcst time 0 hrs:from 201401211600\n",
        "249:Cloud Ice:kg m**-2 (instant):lambert:isobaricInhPa:level 47500 Pa:fcst time 0 hrs:from 201401211600\n",
        "250:Rain mixing ratio:kg kg**-1 (instant):lambert:isobaricInhPa:level 47500 Pa:fcst time 0 hrs:from 201401211600\n",
        "251:Snow mixing ratio:kg kg**-1 (instant):lambert:isobaricInhPa:level 47500 Pa:fcst time 0 hrs:from 201401211600"
       ]
      },
      {
       "output_type": "stream",
       "stream": "stdout",
       "text": [
        "\n",
        "252:Graupel (snow pellets):kg kg**-1 (instant):lambert:isobaricInhPa:level 47500 Pa:fcst time 0 hrs:from 201401211600\n",
        "253:Geopotential Height:gpm (instant):lambert:isobaricInhPa:level 50000 Pa:fcst time 0 hrs:from 201401211600\n",
        "254:Temperature:K (instant):lambert:isobaricInhPa:level 50000 Pa:fcst time 0 hrs:from 201401211600\n",
        "255:Relative humidity:% (instant):lambert:isobaricInhPa:level 50000 Pa:fcst time 0 hrs:from 201401211600\n",
        "256:Dew point temperature:K (instant):lambert:isobaricInhPa:level 50000 Pa:fcst time 0 hrs:from 201401211600\n",
        "257:Specific humidity:kg kg**-1 (instant):lambert:isobaricInhPa:level 50000 Pa:fcst time 0 hrs:from 201401211600\n",
        "258:Vertical velocity:Pa s**-1 (instant):lambert:isobaricInhPa:level 50000 Pa:fcst time 0 hrs:from 201401211600\n",
        "259:U component of wind:m s**-1 (instant):lambert:isobaricInhPa:level 50000 Pa:fcst time 0 hrs:from 201401211600\n",
        "260:V component of wind:m s**-1 (instant):lambert:isobaricInhPa:level 50000 Pa:fcst time 0 hrs:from 201401211600\n",
        "261:Absolute vorticity:s**-1 (instant):lambert:isobaricInhPa:level 50000 Pa:fcst time 0 hrs:from 201401211600\n",
        "262:Cloud mixing ratio:kg kg**-1 (instant):lambert:isobaricInhPa:level 50000 Pa:fcst time 0 hrs:from 201401211600\n",
        "263:Cloud Ice:kg m**-2 (instant):lambert:isobaricInhPa:level 50000 Pa:fcst time 0 hrs:from 201401211600\n",
        "264:Rain mixing ratio:kg kg**-1 (instant):lambert:isobaricInhPa:level 50000 Pa:fcst time 0 hrs:from 201401211600"
       ]
      },
      {
       "output_type": "stream",
       "stream": "stdout",
       "text": [
        "\n",
        "265:Snow mixing ratio:kg kg**-1 (instant):lambert:isobaricInhPa:level 50000 Pa:fcst time 0 hrs:from 201401211600\n",
        "266:Graupel (snow pellets):kg kg**-1 (instant):lambert:isobaricInhPa:level 50000 Pa:fcst time 0 hrs:from 201401211600\n",
        "267:Geopotential Height:gpm (instant):lambert:isobaricInhPa:level 52500 Pa:fcst time 0 hrs:from 201401211600\n",
        "268:Temperature:K (instant):lambert:isobaricInhPa:level 52500 Pa:fcst time 0 hrs:from 201401211600\n",
        "269:Relative humidity:% (instant):lambert:isobaricInhPa:level 52500 Pa:fcst time 0 hrs:from 201401211600\n",
        "270:Dew point temperature:K (instant):lambert:isobaricInhPa:level 52500 Pa:fcst time 0 hrs:from 201401211600\n",
        "271:Specific humidity:kg kg**-1 (instant):lambert:isobaricInhPa:level 52500 Pa:fcst time 0 hrs:from 201401211600\n",
        "272:Vertical velocity:Pa s**-1 (instant):lambert:isobaricInhPa:level 52500 Pa:fcst time 0 hrs:from 201401211600\n",
        "273:U component of wind:m s**-1 (instant):lambert:isobaricInhPa:level 52500 Pa:fcst time 0 hrs:from 201401211600\n",
        "274:V component of wind:m s**-1 (instant):lambert:isobaricInhPa:level 52500 Pa:fcst time 0 hrs:from 201401211600\n",
        "275:Absolute vorticity:s**-1 (instant):lambert:isobaricInhPa:level 52500 Pa:fcst time 0 hrs:from 201401211600\n",
        "276:Cloud mixing ratio:kg kg**-1 (instant):lambert:isobaricInhPa:level 52500 Pa:fcst time 0 hrs:from 201401211600\n",
        "277:Cloud Ice:kg m**-2 (instant):lambert:isobaricInhPa:level 52500 Pa:fcst time 0 hrs:from 201401211600"
       ]
      },
      {
       "output_type": "stream",
       "stream": "stdout",
       "text": [
        "\n",
        "278:Rain mixing ratio:kg kg**-1 (instant):lambert:isobaricInhPa:level 52500 Pa:fcst time 0 hrs:from 201401211600\n",
        "279:Snow mixing ratio:kg kg**-1 (instant):lambert:isobaricInhPa:level 52500 Pa:fcst time 0 hrs:from 201401211600\n",
        "280:Graupel (snow pellets):kg kg**-1 (instant):lambert:isobaricInhPa:level 52500 Pa:fcst time 0 hrs:from 201401211600\n",
        "281:Geopotential Height:gpm (instant):lambert:isobaricInhPa:level 55000 Pa:fcst time 0 hrs:from 201401211600\n",
        "282:Temperature:K (instant):lambert:isobaricInhPa:level 55000 Pa:fcst time 0 hrs:from 201401211600\n",
        "283:Relative humidity:% (instant):lambert:isobaricInhPa:level 55000 Pa:fcst time 0 hrs:from 201401211600\n",
        "284:Dew point temperature:K (instant):lambert:isobaricInhPa:level 55000 Pa:fcst time 0 hrs:from 201401211600\n",
        "285:Specific humidity:kg kg**-1 (instant):lambert:isobaricInhPa:level 55000 Pa:fcst time 0 hrs:from 201401211600\n",
        "286:Vertical velocity:Pa s**-1 (instant):lambert:isobaricInhPa:level 55000 Pa:fcst time 0 hrs:from 201401211600\n",
        "287:U component of wind:m s**-1 (instant):lambert:isobaricInhPa:level 55000 Pa:fcst time 0 hrs:from 201401211600\n",
        "288:V component of wind:m s**-1 (instant):lambert:isobaricInhPa:level 55000 Pa:fcst time 0 hrs:from 201401211600\n",
        "289:Absolute vorticity:s**-1 (instant):lambert:isobaricInhPa:level 55000 Pa:fcst time 0 hrs:from 201401211600\n",
        "290:Cloud mixing ratio:kg kg**-1 (instant):lambert:isobaricInhPa:level 55000 Pa:fcst time 0 hrs:from 201401211600"
       ]
      },
      {
       "output_type": "stream",
       "stream": "stdout",
       "text": [
        "\n",
        "291:Cloud Ice:kg m**-2 (instant):lambert:isobaricInhPa:level 55000 Pa:fcst time 0 hrs:from 201401211600\n",
        "292:Rain mixing ratio:kg kg**-1 (instant):lambert:isobaricInhPa:level 55000 Pa:fcst time 0 hrs:from 201401211600\n",
        "293:Snow mixing ratio:kg kg**-1 (instant):lambert:isobaricInhPa:level 55000 Pa:fcst time 0 hrs:from 201401211600\n",
        "294:Graupel (snow pellets):kg kg**-1 (instant):lambert:isobaricInhPa:level 55000 Pa:fcst time 0 hrs:from 201401211600\n",
        "295:Geopotential Height:gpm (instant):lambert:isobaricInhPa:level 57500 Pa:fcst time 0 hrs:from 201401211600\n",
        "296:Temperature:K (instant):lambert:isobaricInhPa:level 57500 Pa:fcst time 0 hrs:from 201401211600\n",
        "297:Relative humidity:% (instant):lambert:isobaricInhPa:level 57500 Pa:fcst time 0 hrs:from 201401211600\n",
        "298:Dew point temperature:K (instant):lambert:isobaricInhPa:level 57500 Pa:fcst time 0 hrs:from 201401211600\n",
        "299:Specific humidity:kg kg**-1 (instant):lambert:isobaricInhPa:level 57500 Pa:fcst time 0 hrs:from 201401211600\n",
        "300:Vertical velocity:Pa s**-1 (instant):lambert:isobaricInhPa:level 57500 Pa:fcst time 0 hrs:from 201401211600\n",
        "301:U component of wind:m s**-1 (instant):lambert:isobaricInhPa:level 57500 Pa:fcst time 0 hrs:from 201401211600\n",
        "302:V component of wind:m s**-1 (instant):lambert:isobaricInhPa:level 57500 Pa:fcst time 0 hrs:from 201401211600"
       ]
      },
      {
       "output_type": "stream",
       "stream": "stdout",
       "text": [
        "\n",
        "303:Absolute vorticity:s**-1 (instant):lambert:isobaricInhPa:level 57500 Pa:fcst time 0 hrs:from 201401211600\n",
        "304:Cloud mixing ratio:kg kg**-1 (instant):lambert:isobaricInhPa:level 57500 Pa:fcst time 0 hrs:from 201401211600\n",
        "305:Cloud Ice:kg m**-2 (instant):lambert:isobaricInhPa:level 57500 Pa:fcst time 0 hrs:from 201401211600\n",
        "306:Rain mixing ratio:kg kg**-1 (instant):lambert:isobaricInhPa:level 57500 Pa:fcst time 0 hrs:from 201401211600\n",
        "307:Snow mixing ratio:kg kg**-1 (instant):lambert:isobaricInhPa:level 57500 Pa:fcst time 0 hrs:from 201401211600\n",
        "308:Graupel (snow pellets):kg kg**-1 (instant):lambert:isobaricInhPa:level 57500 Pa:fcst time 0 hrs:from 201401211600\n",
        "309:Geopotential Height:gpm (instant):lambert:isobaricInhPa:level 60000 Pa:fcst time 0 hrs:from 201401211600\n",
        "310:Temperature:K (instant):lambert:isobaricInhPa:level 60000 Pa:fcst time 0 hrs:from 201401211600\n",
        "311:Relative humidity:% (instant):lambert:isobaricInhPa:level 60000 Pa:fcst time 0 hrs:from 201401211600\n",
        "312:Dew point temperature:K (instant):lambert:isobaricInhPa:level 60000 Pa:fcst time 0 hrs:from 201401211600"
       ]
      },
      {
       "output_type": "stream",
       "stream": "stdout",
       "text": [
        "\n",
        "313:Specific humidity:kg kg**-1 (instant):lambert:isobaricInhPa:level 60000 Pa:fcst time 0 hrs:from 201401211600\n",
        "314:Vertical velocity:Pa s**-1 (instant):lambert:isobaricInhPa:level 60000 Pa:fcst time 0 hrs:from 201401211600\n",
        "315:U component of wind:m s**-1 (instant):lambert:isobaricInhPa:level 60000 Pa:fcst time 0 hrs:from 201401211600\n",
        "316:V component of wind:m s**-1 (instant):lambert:isobaricInhPa:level 60000 Pa:fcst time 0 hrs:from 201401211600\n",
        "317:Absolute vorticity:s**-1 (instant):lambert:isobaricInhPa:level 60000 Pa:fcst time 0 hrs:from 201401211600\n",
        "318:Cloud mixing ratio:kg kg**-1 (instant):lambert:isobaricInhPa:level 60000 Pa:fcst time 0 hrs:from 201401211600\n",
        "319:Cloud Ice:kg m**-2 (instant):lambert:isobaricInhPa:level 60000 Pa:fcst time 0 hrs:from 201401211600\n",
        "320:Rain mixing ratio:kg kg**-1 (instant):lambert:isobaricInhPa:level 60000 Pa:fcst time 0 hrs:from 201401211600\n",
        "321:Snow mixing ratio:kg kg**-1 (instant):lambert:isobaricInhPa:level 60000 Pa:fcst time 0 hrs:from 201401211600\n",
        "322:Graupel (snow pellets):kg kg**-1 (instant):lambert:isobaricInhPa:level 60000 Pa:fcst time 0 hrs:from 201401211600\n",
        "323:Geopotential Height:gpm (instant):lambert:isobaricInhPa:level 62500 Pa:fcst time 0 hrs:from 201401211600"
       ]
      },
      {
       "output_type": "stream",
       "stream": "stdout",
       "text": [
        "\n",
        "324:Temperature:K (instant):lambert:isobaricInhPa:level 62500 Pa:fcst time 0 hrs:from 201401211600\n",
        "325:Relative humidity:% (instant):lambert:isobaricInhPa:level 62500 Pa:fcst time 0 hrs:from 201401211600\n",
        "326:Dew point temperature:K (instant):lambert:isobaricInhPa:level 62500 Pa:fcst time 0 hrs:from 201401211600\n",
        "327:Specific humidity:kg kg**-1 (instant):lambert:isobaricInhPa:level 62500 Pa:fcst time 0 hrs:from 201401211600\n",
        "328:Vertical velocity:Pa s**-1 (instant):lambert:isobaricInhPa:level 62500 Pa:fcst time 0 hrs:from 201401211600\n",
        "329:U component of wind:m s**-1 (instant):lambert:isobaricInhPa:level 62500 Pa:fcst time 0 hrs:from 201401211600\n",
        "330:V component of wind:m s**-1 (instant):lambert:isobaricInhPa:level 62500 Pa:fcst time 0 hrs:from 201401211600\n",
        "331:Absolute vorticity:s**-1 (instant):lambert:isobaricInhPa:level 62500 Pa:fcst time 0 hrs:from 201401211600\n",
        "332:Cloud mixing ratio:kg kg**-1 (instant):lambert:isobaricInhPa:level 62500 Pa:fcst time 0 hrs:from 201401211600\n",
        "333:Cloud Ice:kg m**-2 (instant):lambert:isobaricInhPa:level 62500 Pa:fcst time 0 hrs:from 201401211600"
       ]
      },
      {
       "output_type": "stream",
       "stream": "stdout",
       "text": [
        "\n",
        "334:Rain mixing ratio:kg kg**-1 (instant):lambert:isobaricInhPa:level 62500 Pa:fcst time 0 hrs:from 201401211600\n",
        "335:Snow mixing ratio:kg kg**-1 (instant):lambert:isobaricInhPa:level 62500 Pa:fcst time 0 hrs:from 201401211600\n",
        "336:Graupel (snow pellets):kg kg**-1 (instant):lambert:isobaricInhPa:level 62500 Pa:fcst time 0 hrs:from 201401211600\n",
        "337:Geopotential Height:gpm (instant):lambert:isobaricInhPa:level 65000 Pa:fcst time 0 hrs:from 201401211600\n",
        "338:Temperature:K (instant):lambert:isobaricInhPa:level 65000 Pa:fcst time 0 hrs:from 201401211600\n",
        "339:Relative humidity:% (instant):lambert:isobaricInhPa:level 65000 Pa:fcst time 0 hrs:from 201401211600\n",
        "340:Dew point temperature:K (instant):lambert:isobaricInhPa:level 65000 Pa:fcst time 0 hrs:from 201401211600\n",
        "341:Specific humidity:kg kg**-1 (instant):lambert:isobaricInhPa:level 65000 Pa:fcst time 0 hrs:from 201401211600\n",
        "342:Vertical velocity:Pa s**-1 (instant):lambert:isobaricInhPa:level 65000 Pa:fcst time 0 hrs:from 201401211600\n",
        "343:U component of wind:m s**-1 (instant):lambert:isobaricInhPa:level 65000 Pa:fcst time 0 hrs:from 201401211600"
       ]
      },
      {
       "output_type": "stream",
       "stream": "stdout",
       "text": [
        "\n",
        "344:V component of wind:m s**-1 (instant):lambert:isobaricInhPa:level 65000 Pa:fcst time 0 hrs:from 201401211600\n",
        "345:Absolute vorticity:s**-1 (instant):lambert:isobaricInhPa:level 65000 Pa:fcst time 0 hrs:from 201401211600\n",
        "346:Cloud mixing ratio:kg kg**-1 (instant):lambert:isobaricInhPa:level 65000 Pa:fcst time 0 hrs:from 201401211600\n",
        "347:Cloud Ice:kg m**-2 (instant):lambert:isobaricInhPa:level 65000 Pa:fcst time 0 hrs:from 201401211600\n",
        "348:Rain mixing ratio:kg kg**-1 (instant):lambert:isobaricInhPa:level 65000 Pa:fcst time 0 hrs:from 201401211600\n",
        "349:Snow mixing ratio:kg kg**-1 (instant):lambert:isobaricInhPa:level 65000 Pa:fcst time 0 hrs:from 201401211600\n",
        "350:Graupel (snow pellets):kg kg**-1 (instant):lambert:isobaricInhPa:level 65000 Pa:fcst time 0 hrs:from 201401211600\n",
        "351:Geopotential Height:gpm (instant):lambert:isobaricInhPa:level 67500 Pa:fcst time 0 hrs:from 201401211600\n",
        "352:Temperature:K (instant):lambert:isobaricInhPa:level 67500 Pa:fcst time 0 hrs:from 201401211600\n",
        "353:Relative humidity:% (instant):lambert:isobaricInhPa:level 67500 Pa:fcst time 0 hrs:from 201401211600\n",
        "354:Dew point temperature:K (instant):lambert:isobaricInhPa:level 67500 Pa:fcst time 0 hrs:from 201401211600\n",
        "355:Specific humidity:kg kg**-1 (instant):lambert:isobaricInhPa:level 67500 Pa:fcst time 0 hrs:from 201401211600"
       ]
      },
      {
       "output_type": "stream",
       "stream": "stdout",
       "text": [
        "\n",
        "356:Vertical velocity:Pa s**-1 (instant):lambert:isobaricInhPa:level 67500 Pa:fcst time 0 hrs:from 201401211600\n",
        "357:U component of wind:m s**-1 (instant):lambert:isobaricInhPa:level 67500 Pa:fcst time 0 hrs:from 201401211600\n",
        "358:V component of wind:m s**-1 (instant):lambert:isobaricInhPa:level 67500 Pa:fcst time 0 hrs:from 201401211600\n",
        "359:Absolute vorticity:s**-1 (instant):lambert:isobaricInhPa:level 67500 Pa:fcst time 0 hrs:from 201401211600\n",
        "360:Cloud mixing ratio:kg kg**-1 (instant):lambert:isobaricInhPa:level 67500 Pa:fcst time 0 hrs:from 201401211600\n",
        "361:Cloud Ice:kg m**-2 (instant):lambert:isobaricInhPa:level 67500 Pa:fcst time 0 hrs:from 201401211600\n",
        "362:Rain mixing ratio:kg kg**-1 (instant):lambert:isobaricInhPa:level 67500 Pa:fcst time 0 hrs:from 201401211600\n",
        "363:Snow mixing ratio:kg kg**-1 (instant):lambert:isobaricInhPa:level 67500 Pa:fcst time 0 hrs:from 201401211600\n",
        "364:Graupel (snow pellets):kg kg**-1 (instant):lambert:isobaricInhPa:level 67500 Pa:fcst time 0 hrs:from 201401211600\n",
        "365:Geopotential Height:gpm (instant):lambert:isobaricInhPa:level 70000 Pa:fcst time 0 hrs:from 201401211600"
       ]
      },
      {
       "output_type": "stream",
       "stream": "stdout",
       "text": [
        "\n",
        "366:Temperature:K (instant):lambert:isobaricInhPa:level 70000 Pa:fcst time 0 hrs:from 201401211600\n",
        "367:Relative humidity:% (instant):lambert:isobaricInhPa:level 70000 Pa:fcst time 0 hrs:from 201401211600\n",
        "368:Dew point temperature:K (instant):lambert:isobaricInhPa:level 70000 Pa:fcst time 0 hrs:from 201401211600\n",
        "369:Specific humidity:kg kg**-1 (instant):lambert:isobaricInhPa:level 70000 Pa:fcst time 0 hrs:from 201401211600\n",
        "370:Vertical velocity:Pa s**-1 (instant):lambert:isobaricInhPa:level 70000 Pa:fcst time 0 hrs:from 201401211600\n",
        "371:U component of wind:m s**-1 (instant):lambert:isobaricInhPa:level 70000 Pa:fcst time 0 hrs:from 201401211600\n",
        "372:V component of wind:m s**-1 (instant):lambert:isobaricInhPa:level 70000 Pa:fcst time 0 hrs:from 201401211600\n",
        "373:Absolute vorticity:s**-1 (instant):lambert:isobaricInhPa:level 70000 Pa:fcst time 0 hrs:from 201401211600\n",
        "374:Cloud mixing ratio:kg kg**-1 (instant):lambert:isobaricInhPa:level 70000 Pa:fcst time 0 hrs:from 201401211600\n",
        "375:Cloud Ice:kg m**-2 (instant):lambert:isobaricInhPa:level 70000 Pa:fcst time 0 hrs:from 201401211600\n",
        "376:Rain mixing ratio:kg kg**-1 (instant):lambert:isobaricInhPa:level 70000 Pa:fcst time 0 hrs:from 201401211600"
       ]
      },
      {
       "output_type": "stream",
       "stream": "stdout",
       "text": [
        "\n",
        "377:Snow mixing ratio:kg kg**-1 (instant):lambert:isobaricInhPa:level 70000 Pa:fcst time 0 hrs:from 201401211600\n",
        "378:Graupel (snow pellets):kg kg**-1 (instant):lambert:isobaricInhPa:level 70000 Pa:fcst time 0 hrs:from 201401211600\n",
        "379:Geopotential Height:gpm (instant):lambert:isobaricInhPa:level 72500 Pa:fcst time 0 hrs:from 201401211600\n",
        "380:Temperature:K (instant):lambert:isobaricInhPa:level 72500 Pa:fcst time 0 hrs:from 201401211600\n",
        "381:Relative humidity:% (instant):lambert:isobaricInhPa:level 72500 Pa:fcst time 0 hrs:from 201401211600\n",
        "382:Dew point temperature:K (instant):lambert:isobaricInhPa:level 72500 Pa:fcst time 0 hrs:from 201401211600\n",
        "383:Specific humidity:kg kg**-1 (instant):lambert:isobaricInhPa:level 72500 Pa:fcst time 0 hrs:from 201401211600\n",
        "384:Vertical velocity:Pa s**-1 (instant):lambert:isobaricInhPa:level 72500 Pa:fcst time 0 hrs:from 201401211600\n",
        "385:U component of wind:m s**-1 (instant):lambert:isobaricInhPa:level 72500 Pa:fcst time 0 hrs:from 201401211600\n",
        "386:V component of wind:m s**-1 (instant):lambert:isobaricInhPa:level 72500 Pa:fcst time 0 hrs:from 201401211600\n",
        "387:Absolute vorticity:s**-1 (instant):lambert:isobaricInhPa:level 72500 Pa:fcst time 0 hrs:from 201401211600\n",
        "388:Cloud mixing ratio:kg kg**-1 (instant):lambert:isobaricInhPa:level 72500 Pa:fcst time 0 hrs:from 201401211600"
       ]
      },
      {
       "output_type": "stream",
       "stream": "stdout",
       "text": [
        "\n",
        "389:Cloud Ice:kg m**-2 (instant):lambert:isobaricInhPa:level 72500 Pa:fcst time 0 hrs:from 201401211600\n",
        "390:Rain mixing ratio:kg kg**-1 (instant):lambert:isobaricInhPa:level 72500 Pa:fcst time 0 hrs:from 201401211600\n",
        "391:Snow mixing ratio:kg kg**-1 (instant):lambert:isobaricInhPa:level 72500 Pa:fcst time 0 hrs:from 201401211600\n",
        "392:Graupel (snow pellets):kg kg**-1 (instant):lambert:isobaricInhPa:level 72500 Pa:fcst time 0 hrs:from 201401211600\n",
        "393:Geopotential Height:gpm (instant):lambert:isobaricInhPa:level 75000 Pa:fcst time 0 hrs:from 201401211600\n",
        "394:Temperature:K (instant):lambert:isobaricInhPa:level 75000 Pa:fcst time 0 hrs:from 201401211600\n",
        "395:Relative humidity:% (instant):lambert:isobaricInhPa:level 75000 Pa:fcst time 0 hrs:from 201401211600\n",
        "396:Dew point temperature:K (instant):lambert:isobaricInhPa:level 75000 Pa:fcst time 0 hrs:from 201401211600\n",
        "397:Specific humidity:kg kg**-1 (instant):lambert:isobaricInhPa:level 75000 Pa:fcst time 0 hrs:from 201401211600\n",
        "398:Vertical velocity:Pa s**-1 (instant):lambert:isobaricInhPa:level 75000 Pa:fcst time 0 hrs:from 201401211600\n",
        "399:U component of wind:m s**-1 (instant):lambert:isobaricInhPa:level 75000 Pa:fcst time 0 hrs:from 201401211600\n",
        "400:V component of wind:m s**-1 (instant):lambert:isobaricInhPa:level 75000 Pa:fcst time 0 hrs:from 201401211600"
       ]
      },
      {
       "output_type": "stream",
       "stream": "stdout",
       "text": [
        "\n",
        "401:Absolute vorticity:s**-1 (instant):lambert:isobaricInhPa:level 75000 Pa:fcst time 0 hrs:from 201401211600\n",
        "402:Cloud mixing ratio:kg kg**-1 (instant):lambert:isobaricInhPa:level 75000 Pa:fcst time 0 hrs:from 201401211600\n",
        "403:Cloud Ice:kg m**-2 (instant):lambert:isobaricInhPa:level 75000 Pa:fcst time 0 hrs:from 201401211600\n",
        "404:Rain mixing ratio:kg kg**-1 (instant):lambert:isobaricInhPa:level 75000 Pa:fcst time 0 hrs:from 201401211600\n",
        "405:Snow mixing ratio:kg kg**-1 (instant):lambert:isobaricInhPa:level 75000 Pa:fcst time 0 hrs:from 201401211600\n",
        "406:Graupel (snow pellets):kg kg**-1 (instant):lambert:isobaricInhPa:level 75000 Pa:fcst time 0 hrs:from 201401211600\n",
        "407:Geopotential Height:gpm (instant):lambert:isobaricInhPa:level 77500 Pa:fcst time 0 hrs:from 201401211600\n",
        "408:Temperature:K (instant):lambert:isobaricInhPa:level 77500 Pa:fcst time 0 hrs:from 201401211600\n",
        "409:Relative humidity:% (instant):lambert:isobaricInhPa:level 77500 Pa:fcst time 0 hrs:from 201401211600\n",
        "410:Dew point temperature:K (instant):lambert:isobaricInhPa:level 77500 Pa:fcst time 0 hrs:from 201401211600\n",
        "411:Specific humidity:kg kg**-1 (instant):lambert:isobaricInhPa:level 77500 Pa:fcst time 0 hrs:from 201401211600\n",
        "412:Vertical velocity:Pa s**-1 (instant):lambert:isobaricInhPa:level 77500 Pa:fcst time 0 hrs:from 201401211600\n",
        "413:U component of wind:m s**-1 (instant):lambert:isobaricInhPa:level 77500 Pa:fcst time 0 hrs:from 201401211600"
       ]
      },
      {
       "output_type": "stream",
       "stream": "stdout",
       "text": [
        "\n",
        "414:V component of wind:m s**-1 (instant):lambert:isobaricInhPa:level 77500 Pa:fcst time 0 hrs:from 201401211600\n",
        "415:Absolute vorticity:s**-1 (instant):lambert:isobaricInhPa:level 77500 Pa:fcst time 0 hrs:from 201401211600\n",
        "416:Cloud mixing ratio:kg kg**-1 (instant):lambert:isobaricInhPa:level 77500 Pa:fcst time 0 hrs:from 201401211600\n",
        "417:Cloud Ice:kg m**-2 (instant):lambert:isobaricInhPa:level 77500 Pa:fcst time 0 hrs:from 201401211600\n",
        "418:Rain mixing ratio:kg kg**-1 (instant):lambert:isobaricInhPa:level 77500 Pa:fcst time 0 hrs:from 201401211600\n",
        "419:Snow mixing ratio:kg kg**-1 (instant):lambert:isobaricInhPa:level 77500 Pa:fcst time 0 hrs:from 201401211600\n",
        "420:Graupel (snow pellets):kg kg**-1 (instant):lambert:isobaricInhPa:level 77500 Pa:fcst time 0 hrs:from 201401211600\n",
        "421:Geopotential Height:gpm (instant):lambert:isobaricInhPa:level 80000 Pa:fcst time 0 hrs:from 201401211600\n",
        "422:Temperature:K (instant):lambert:isobaricInhPa:level 80000 Pa:fcst time 0 hrs:from 201401211600\n",
        "423:Relative humidity:% (instant):lambert:isobaricInhPa:level 80000 Pa:fcst time 0 hrs:from 201401211600\n",
        "424:Dew point temperature:K (instant):lambert:isobaricInhPa:level 80000 Pa:fcst time 0 hrs:from 201401211600\n",
        "425:Specific humidity:kg kg**-1 (instant):lambert:isobaricInhPa:level 80000 Pa:fcst time 0 hrs:from 201401211600"
       ]
      },
      {
       "output_type": "stream",
       "stream": "stdout",
       "text": [
        "\n",
        "426:Vertical velocity:Pa s**-1 (instant):lambert:isobaricInhPa:level 80000 Pa:fcst time 0 hrs:from 201401211600\n",
        "427:U component of wind:m s**-1 (instant):lambert:isobaricInhPa:level 80000 Pa:fcst time 0 hrs:from 201401211600\n",
        "428:V component of wind:m s**-1 (instant):lambert:isobaricInhPa:level 80000 Pa:fcst time 0 hrs:from 201401211600\n",
        "429:Absolute vorticity:s**-1 (instant):lambert:isobaricInhPa:level 80000 Pa:fcst time 0 hrs:from 201401211600\n",
        "430:Cloud mixing ratio:kg kg**-1 (instant):lambert:isobaricInhPa:level 80000 Pa:fcst time 0 hrs:from 201401211600\n",
        "431:Cloud Ice:kg m**-2 (instant):lambert:isobaricInhPa:level 80000 Pa:fcst time 0 hrs:from 201401211600\n",
        "432:Rain mixing ratio:kg kg**-1 (instant):lambert:isobaricInhPa:level 80000 Pa:fcst time 0 hrs:from 201401211600\n",
        "433:Snow mixing ratio:kg kg**-1 (instant):lambert:isobaricInhPa:level 80000 Pa:fcst time 0 hrs:from 201401211600\n",
        "434:Graupel (snow pellets):kg kg**-1 (instant):lambert:isobaricInhPa:level 80000 Pa:fcst time 0 hrs:from 201401211600\n",
        "435:Geopotential Height:gpm (instant):lambert:isobaricInhPa:level 82500 Pa:fcst time 0 hrs:from 201401211600\n",
        "436:Temperature:K (instant):lambert:isobaricInhPa:level 82500 Pa:fcst time 0 hrs:from 201401211600"
       ]
      },
      {
       "output_type": "stream",
       "stream": "stdout",
       "text": [
        "\n",
        "437:Relative humidity:% (instant):lambert:isobaricInhPa:level 82500 Pa:fcst time 0 hrs:from 201401211600\n",
        "438:Dew point temperature:K (instant):lambert:isobaricInhPa:level 82500 Pa:fcst time 0 hrs:from 201401211600\n",
        "439:Specific humidity:kg kg**-1 (instant):lambert:isobaricInhPa:level 82500 Pa:fcst time 0 hrs:from 201401211600\n",
        "440:Vertical velocity:Pa s**-1 (instant):lambert:isobaricInhPa:level 82500 Pa:fcst time 0 hrs:from 201401211600\n",
        "441:U component of wind:m s**-1 (instant):lambert:isobaricInhPa:level 82500 Pa:fcst time 0 hrs:from 201401211600\n",
        "442:V component of wind:m s**-1 (instant):lambert:isobaricInhPa:level 82500 Pa:fcst time 0 hrs:from 201401211600\n",
        "443:Absolute vorticity:s**-1 (instant):lambert:isobaricInhPa:level 82500 Pa:fcst time 0 hrs:from 201401211600\n",
        "444:Cloud mixing ratio:kg kg**-1 (instant):lambert:isobaricInhPa:level 82500 Pa:fcst time 0 hrs:from 201401211600\n",
        "445:Cloud Ice:kg m**-2 (instant):lambert:isobaricInhPa:level 82500 Pa:fcst time 0 hrs:from 201401211600\n",
        "446:Rain mixing ratio:kg kg**-1 (instant):lambert:isobaricInhPa:level 82500 Pa:fcst time 0 hrs:from 201401211600"
       ]
      },
      {
       "output_type": "stream",
       "stream": "stdout",
       "text": [
        "\n",
        "447:Snow mixing ratio:kg kg**-1 (instant):lambert:isobaricInhPa:level 82500 Pa:fcst time 0 hrs:from 201401211600\n",
        "448:Graupel (snow pellets):kg kg**-1 (instant):lambert:isobaricInhPa:level 82500 Pa:fcst time 0 hrs:from 201401211600\n",
        "449:Geopotential Height:gpm (instant):lambert:isobaricInhPa:level 85000 Pa:fcst time 0 hrs:from 201401211600\n",
        "450:Temperature:K (instant):lambert:isobaricInhPa:level 85000 Pa:fcst time 0 hrs:from 201401211600\n",
        "451:Relative humidity:% (instant):lambert:isobaricInhPa:level 85000 Pa:fcst time 0 hrs:from 201401211600\n",
        "452:Dew point temperature:K (instant):lambert:isobaricInhPa:level 85000 Pa:fcst time 0 hrs:from 201401211600\n",
        "453:Specific humidity:kg kg**-1 (instant):lambert:isobaricInhPa:level 85000 Pa:fcst time 0 hrs:from 201401211600\n",
        "454:Vertical velocity:Pa s**-1 (instant):lambert:isobaricInhPa:level 85000 Pa:fcst time 0 hrs:from 201401211600\n",
        "455:U component of wind:m s**-1 (instant):lambert:isobaricInhPa:level 85000 Pa:fcst time 0 hrs:from 201401211600\n",
        "456:V component of wind:m s**-1 (instant):lambert:isobaricInhPa:level 85000 Pa:fcst time 0 hrs:from 201401211600\n",
        "457:Absolute vorticity:s**-1 (instant):lambert:isobaricInhPa:level 85000 Pa:fcst time 0 hrs:from 201401211600\n",
        "458:Cloud mixing ratio:kg kg**-1 (instant):lambert:isobaricInhPa:level 85000 Pa:fcst time 0 hrs:from 201401211600"
       ]
      },
      {
       "output_type": "stream",
       "stream": "stdout",
       "text": [
        "\n",
        "459:Cloud Ice:kg m**-2 (instant):lambert:isobaricInhPa:level 85000 Pa:fcst time 0 hrs:from 201401211600\n",
        "460:Rain mixing ratio:kg kg**-1 (instant):lambert:isobaricInhPa:level 85000 Pa:fcst time 0 hrs:from 201401211600\n",
        "461:Snow mixing ratio:kg kg**-1 (instant):lambert:isobaricInhPa:level 85000 Pa:fcst time 0 hrs:from 201401211600\n",
        "462:Graupel (snow pellets):kg kg**-1 (instant):lambert:isobaricInhPa:level 85000 Pa:fcst time 0 hrs:from 201401211600\n",
        "463:Geopotential Height:gpm (instant):lambert:isobaricInhPa:level 87500 Pa:fcst time 0 hrs:from 201401211600\n",
        "464:Temperature:K (instant):lambert:isobaricInhPa:level 87500 Pa:fcst time 0 hrs:from 201401211600\n",
        "465:Relative humidity:% (instant):lambert:isobaricInhPa:level 87500 Pa:fcst time 0 hrs:from 201401211600\n",
        "466:Dew point temperature:K (instant):lambert:isobaricInhPa:level 87500 Pa:fcst time 0 hrs:from 201401211600\n",
        "467:Specific humidity:kg kg**-1 (instant):lambert:isobaricInhPa:level 87500 Pa:fcst time 0 hrs:from 201401211600\n",
        "468:Vertical velocity:Pa s**-1 (instant):lambert:isobaricInhPa:level 87500 Pa:fcst time 0 hrs:from 201401211600\n",
        "469:U component of wind:m s**-1 (instant):lambert:isobaricInhPa:level 87500 Pa:fcst time 0 hrs:from 201401211600"
       ]
      },
      {
       "output_type": "stream",
       "stream": "stdout",
       "text": [
        "\n",
        "470:V component of wind:m s**-1 (instant):lambert:isobaricInhPa:level 87500 Pa:fcst time 0 hrs:from 201401211600\n",
        "471:Absolute vorticity:s**-1 (instant):lambert:isobaricInhPa:level 87500 Pa:fcst time 0 hrs:from 201401211600\n",
        "472:Cloud mixing ratio:kg kg**-1 (instant):lambert:isobaricInhPa:level 87500 Pa:fcst time 0 hrs:from 201401211600\n",
        "473:Cloud Ice:kg m**-2 (instant):lambert:isobaricInhPa:level 87500 Pa:fcst time 0 hrs:from 201401211600\n",
        "474:Rain mixing ratio:kg kg**-1 (instant):lambert:isobaricInhPa:level 87500 Pa:fcst time 0 hrs:from 201401211600\n",
        "475:Snow mixing ratio:kg kg**-1 (instant):lambert:isobaricInhPa:level 87500 Pa:fcst time 0 hrs:from 201401211600\n",
        "476:Graupel (snow pellets):kg kg**-1 (instant):lambert:isobaricInhPa:level 87500 Pa:fcst time 0 hrs:from 201401211600\n",
        "477:Geopotential Height:gpm (instant):lambert:isobaricInhPa:level 90000 Pa:fcst time 0 hrs:from 201401211600\n",
        "478:Temperature:K (instant):lambert:isobaricInhPa:level 90000 Pa:fcst time 0 hrs:from 201401211600\n",
        "479:Relative humidity:% (instant):lambert:isobaricInhPa:level 90000 Pa:fcst time 0 hrs:from 201401211600\n",
        "480:Dew point temperature:K (instant):lambert:isobaricInhPa:level 90000 Pa:fcst time 0 hrs:from 201401211600\n",
        "481:Specific humidity:kg kg**-1 (instant):lambert:isobaricInhPa:level 90000 Pa:fcst time 0 hrs:from 201401211600"
       ]
      },
      {
       "output_type": "stream",
       "stream": "stdout",
       "text": [
        "\n",
        "482:Vertical velocity:Pa s**-1 (instant):lambert:isobaricInhPa:level 90000 Pa:fcst time 0 hrs:from 201401211600\n",
        "483:U component of wind:m s**-1 (instant):lambert:isobaricInhPa:level 90000 Pa:fcst time 0 hrs:from 201401211600\n",
        "484:V component of wind:m s**-1 (instant):lambert:isobaricInhPa:level 90000 Pa:fcst time 0 hrs:from 201401211600\n",
        "485:Absolute vorticity:s**-1 (instant):lambert:isobaricInhPa:level 90000 Pa:fcst time 0 hrs:from 201401211600\n",
        "486:Cloud mixing ratio:kg kg**-1 (instant):lambert:isobaricInhPa:level 90000 Pa:fcst time 0 hrs:from 201401211600\n",
        "487:Cloud Ice:kg m**-2 (instant):lambert:isobaricInhPa:level 90000 Pa:fcst time 0 hrs:from 201401211600\n",
        "488:Rain mixing ratio:kg kg**-1 (instant):lambert:isobaricInhPa:level 90000 Pa:fcst time 0 hrs:from 201401211600\n",
        "489:Snow mixing ratio:kg kg**-1 (instant):lambert:isobaricInhPa:level 90000 Pa:fcst time 0 hrs:from 201401211600\n",
        "490:Graupel (snow pellets):kg kg**-1 (instant):lambert:isobaricInhPa:level 90000 Pa:fcst time 0 hrs:from 201401211600\n",
        "491:Geopotential Height:gpm (instant):lambert:isobaricInhPa:level 92500 Pa:fcst time 0 hrs:from 201401211600\n",
        "492:Temperature:K (instant):lambert:isobaricInhPa:level 92500 Pa:fcst time 0 hrs:from 201401211600"
       ]
      },
      {
       "output_type": "stream",
       "stream": "stdout",
       "text": [
        "\n",
        "493:Relative humidity:% (instant):lambert:isobaricInhPa:level 92500 Pa:fcst time 0 hrs:from 201401211600\n",
        "494:Dew point temperature:K (instant):lambert:isobaricInhPa:level 92500 Pa:fcst time 0 hrs:from 201401211600\n",
        "495:Specific humidity:kg kg**-1 (instant):lambert:isobaricInhPa:level 92500 Pa:fcst time 0 hrs:from 201401211600\n",
        "496:Vertical velocity:Pa s**-1 (instant):lambert:isobaricInhPa:level 92500 Pa:fcst time 0 hrs:from 201401211600\n",
        "497:U component of wind:m s**-1 (instant):lambert:isobaricInhPa:level 92500 Pa:fcst time 0 hrs:from 201401211600\n",
        "498:V component of wind:m s**-1 (instant):lambert:isobaricInhPa:level 92500 Pa:fcst time 0 hrs:from 201401211600\n",
        "499:Absolute vorticity:s**-1 (instant):lambert:isobaricInhPa:level 92500 Pa:fcst time 0 hrs:from 201401211600\n",
        "500:Cloud mixing ratio:kg kg**-1 (instant):lambert:isobaricInhPa:level 92500 Pa:fcst time 0 hrs:from 201401211600\n",
        "501:Cloud Ice:kg m**-2 (instant):lambert:isobaricInhPa:level 92500 Pa:fcst time 0 hrs:from 201401211600\n",
        "502:Rain mixing ratio:kg kg**-1 (instant):lambert:isobaricInhPa:level 92500 Pa:fcst time 0 hrs:from 201401211600"
       ]
      },
      {
       "output_type": "stream",
       "stream": "stdout",
       "text": [
        "\n",
        "503:Snow mixing ratio:kg kg**-1 (instant):lambert:isobaricInhPa:level 92500 Pa:fcst time 0 hrs:from 201401211600\n",
        "504:Graupel (snow pellets):kg kg**-1 (instant):lambert:isobaricInhPa:level 92500 Pa:fcst time 0 hrs:from 201401211600\n",
        "505:Geopotential Height:gpm (instant):lambert:isobaricInhPa:level 95000 Pa:fcst time 0 hrs:from 201401211600\n",
        "506:Temperature:K (instant):lambert:isobaricInhPa:level 95000 Pa:fcst time 0 hrs:from 201401211600\n",
        "507:Relative humidity:% (instant):lambert:isobaricInhPa:level 95000 Pa:fcst time 0 hrs:from 201401211600\n",
        "508:Dew point temperature:K (instant):lambert:isobaricInhPa:level 95000 Pa:fcst time 0 hrs:from 201401211600\n",
        "509:Specific humidity:kg kg**-1 (instant):lambert:isobaricInhPa:level 95000 Pa:fcst time 0 hrs:from 201401211600\n",
        "510:Vertical velocity:Pa s**-1 (instant):lambert:isobaricInhPa:level 95000 Pa:fcst time 0 hrs:from 201401211600\n",
        "511:U component of wind:m s**-1 (instant):lambert:isobaricInhPa:level 95000 Pa:fcst time 0 hrs:from 201401211600\n",
        "512:V component of wind:m s**-1 (instant):lambert:isobaricInhPa:level 95000 Pa:fcst time 0 hrs:from 201401211600"
       ]
      },
      {
       "output_type": "stream",
       "stream": "stdout",
       "text": [
        "\n",
        "513:Absolute vorticity:s**-1 (instant):lambert:isobaricInhPa:level 95000 Pa:fcst time 0 hrs:from 201401211600\n",
        "514:Cloud mixing ratio:kg kg**-1 (instant):lambert:isobaricInhPa:level 95000 Pa:fcst time 0 hrs:from 201401211600\n",
        "515:Cloud Ice:kg m**-2 (instant):lambert:isobaricInhPa:level 95000 Pa:fcst time 0 hrs:from 201401211600\n",
        "516:Rain mixing ratio:kg kg**-1 (instant):lambert:isobaricInhPa:level 95000 Pa:fcst time 0 hrs:from 201401211600\n",
        "517:Snow mixing ratio:kg kg**-1 (instant):lambert:isobaricInhPa:level 95000 Pa:fcst time 0 hrs:from 201401211600\n",
        "518:Graupel (snow pellets):kg kg**-1 (instant):lambert:isobaricInhPa:level 95000 Pa:fcst time 0 hrs:from 201401211600\n",
        "519:Geopotential Height:gpm (instant):lambert:isobaricInhPa:level 97500 Pa:fcst time 0 hrs:from 201401211600\n",
        "520:Temperature:K (instant):lambert:isobaricInhPa:level 97500 Pa:fcst time 0 hrs:from 201401211600\n",
        "521:Relative humidity:% (instant):lambert:isobaricInhPa:level 97500 Pa:fcst time 0 hrs:from 201401211600\n",
        "522:Dew point temperature:K (instant):lambert:isobaricInhPa:level 97500 Pa:fcst time 0 hrs:from 201401211600\n",
        "523:Specific humidity:kg kg**-1 (instant):lambert:isobaricInhPa:level 97500 Pa:fcst time 0 hrs:from 201401211600\n",
        "524:Vertical velocity:Pa s**-1 (instant):lambert:isobaricInhPa:level 97500 Pa:fcst time 0 hrs:from 201401211600"
       ]
      },
      {
       "output_type": "stream",
       "stream": "stdout",
       "text": [
        "\n",
        "525:U component of wind:m s**-1 (instant):lambert:isobaricInhPa:level 97500 Pa:fcst time 0 hrs:from 201401211600\n",
        "526:V component of wind:m s**-1 (instant):lambert:isobaricInhPa:level 97500 Pa:fcst time 0 hrs:from 201401211600\n",
        "527:Absolute vorticity:s**-1 (instant):lambert:isobaricInhPa:level 97500 Pa:fcst time 0 hrs:from 201401211600\n",
        "528:Cloud mixing ratio:kg kg**-1 (instant):lambert:isobaricInhPa:level 97500 Pa:fcst time 0 hrs:from 201401211600\n",
        "529:Cloud Ice:kg m**-2 (instant):lambert:isobaricInhPa:level 97500 Pa:fcst time 0 hrs:from 201401211600\n",
        "530:Rain mixing ratio:kg kg**-1 (instant):lambert:isobaricInhPa:level 97500 Pa:fcst time 0 hrs:from 201401211600\n",
        "531:Snow mixing ratio:kg kg**-1 (instant):lambert:isobaricInhPa:level 97500 Pa:fcst time 0 hrs:from 201401211600\n",
        "532:Graupel (snow pellets):kg kg**-1 (instant):lambert:isobaricInhPa:level 97500 Pa:fcst time 0 hrs:from 201401211600\n",
        "533:Geopotential Height:gpm (instant):lambert:isobaricInhPa:level 100000 Pa:fcst time 0 hrs:from 201401211600\n",
        "534:Temperature:K (instant):lambert:isobaricInhPa:level 100000 Pa:fcst time 0 hrs:from 201401211600\n",
        "535:Relative humidity:% (instant):lambert:isobaricInhPa:level 100000 Pa:fcst time 0 hrs:from 201401211600"
       ]
      },
      {
       "output_type": "stream",
       "stream": "stdout",
       "text": [
        "\n",
        "536:Dew point temperature:K (instant):lambert:isobaricInhPa:level 100000 Pa:fcst time 0 hrs:from 201401211600\n",
        "537:Specific humidity:kg kg**-1 (instant):lambert:isobaricInhPa:level 100000 Pa:fcst time 0 hrs:from 201401211600\n",
        "538:Vertical velocity:Pa s**-1 (instant):lambert:isobaricInhPa:level 100000 Pa:fcst time 0 hrs:from 201401211600\n",
        "539:U component of wind:m s**-1 (instant):lambert:isobaricInhPa:level 100000 Pa:fcst time 0 hrs:from 201401211600\n",
        "540:V component of wind:m s**-1 (instant):lambert:isobaricInhPa:level 100000 Pa:fcst time 0 hrs:from 201401211600\n",
        "541:Absolute vorticity:s**-1 (instant):lambert:isobaricInhPa:level 100000 Pa:fcst time 0 hrs:from 201401211600\n",
        "542:Cloud mixing ratio:kg kg**-1 (instant):lambert:isobaricInhPa:level 100000 Pa:fcst time 0 hrs:from 201401211600\n",
        "543:Cloud Ice:kg m**-2 (instant):lambert:isobaricInhPa:level 100000 Pa:fcst time 0 hrs:from 201401211600\n",
        "544:Rain mixing ratio:kg kg**-1 (instant):lambert:isobaricInhPa:level 100000 Pa:fcst time 0 hrs:from 201401211600\n",
        "545:Snow mixing ratio:kg kg**-1 (instant):lambert:isobaricInhPa:level 100000 Pa:fcst time 0 hrs:from 201401211600\n",
        "546:Graupel (snow pellets):kg kg**-1 (instant):lambert:isobaricInhPa:level 100000 Pa:fcst time 0 hrs:from 201401211600\n",
        "547:Geopotential Height:gpm (instant):lambert:isobaricInhPa:level 101300 Pa:fcst time 0 hrs:from 201401211600\n",
        "548:Temperature:K (instant):lambert:isobaricInhPa:level 101300 Pa:fcst time 0 hrs:from 201401211600"
       ]
      },
      {
       "output_type": "stream",
       "stream": "stdout",
       "text": [
        "\n",
        "549:Relative humidity:% (instant):lambert:isobaricInhPa:level 101300 Pa:fcst time 0 hrs:from 201401211600\n",
        "550:Dew point temperature:K (instant):lambert:isobaricInhPa:level 101300 Pa:fcst time 0 hrs:from 201401211600\n",
        "551:Specific humidity:kg kg**-1 (instant):lambert:isobaricInhPa:level 101300 Pa:fcst time 0 hrs:from 201401211600\n",
        "552:Vertical velocity:Pa s**-1 (instant):lambert:isobaricInhPa:level 101300 Pa:fcst time 0 hrs:from 201401211600\n",
        "553:U component of wind:m s**-1 (instant):lambert:isobaricInhPa:level 101300 Pa:fcst time 0 hrs:from 201401211600\n",
        "554:V component of wind:m s**-1 (instant):lambert:isobaricInhPa:level 101300 Pa:fcst time 0 hrs:from 201401211600\n",
        "555:Absolute vorticity:s**-1 (instant):lambert:isobaricInhPa:level 101300 Pa:fcst time 0 hrs:from 201401211600\n",
        "556:Cloud mixing ratio:kg kg**-1 (instant):lambert:isobaricInhPa:level 101300 Pa:fcst time 0 hrs:from 201401211600\n",
        "557:Cloud Ice:kg m**-2 (instant):lambert:isobaricInhPa:level 101300 Pa:fcst time 0 hrs:from 201401211600\n",
        "558:Rain mixing ratio:kg kg**-1 (instant):lambert:isobaricInhPa:level 101300 Pa:fcst time 0 hrs:from 201401211600\n",
        "559:Snow mixing ratio:kg kg**-1 (instant):lambert:isobaricInhPa:level 101300 Pa:fcst time 0 hrs:from 201401211600\n",
        "560:Graupel (snow pellets):kg kg**-1 (instant):lambert:isobaricInhPa:level 101300 Pa:fcst time 0 hrs:from 201401211600"
       ]
      },
      {
       "output_type": "stream",
       "stream": "stdout",
       "text": [
        "\n"
       ]
      }
     ],
     "prompt_number": 6
    },
    {
     "cell_type": "code",
     "collapsed": false,
     "input": [
      "print dir(myfile)"
     ],
     "language": "python",
     "metadata": {},
     "outputs": [
      {
       "output_type": "stream",
       "stream": "stdout",
       "text": [
        "['__call__', '__class__', '__delattr__', '__doc__', '__enter__', '__exit__', '__format__', '__getattribute__', '__getitem__', '__hash__', '__init__', '__iter__', '__new__', '__next__', '__reduce__', '__reduce_ex__', '__repr__', '__setattr__', '__sizeof__', '__str__', '__subclasshook__', '_advance', 'close', 'closed', 'has_multi_field_msgs', 'message', 'messagenumber', 'messages', 'name', 'next', 'read', 'readline', 'rewind', 'seek', 'select', 'tell']\n"
       ]
      }
     ],
     "prompt_number": 4
    },
    {
     "cell_type": "code",
     "collapsed": false,
     "input": [],
     "language": "python",
     "metadata": {},
     "outputs": []
    }
   ],
   "metadata": {}
  }
 ]
}