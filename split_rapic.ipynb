{
 "cells": [
  {
   "cell_type": "code",
   "execution_count": 38,
   "metadata": {
    "collapsed": false
   },
   "outputs": [],
   "source": [
    "import re\n",
    "prt = '/Users/scollis/Dropbox/Public/Berrima_Data_20060120.rapic'\n",
    "all_the_data = open(prt,'rb').read()\n",
    "parts = all_the_data.split('/IMAGE: ')\n",
    "for part in parts:\n",
    "    fn = part[0:15].replace(' ', '_')\n",
    "    if '06' in fn:\n",
    "        filename = '/data/split_test/rapic_' + fn + '.rapic'\n",
    "        of = open(filename, 'w')\n",
    "        of.write('/IMAGE: '+ part)\n",
    "        of.close()"
   ]
  },
  {
   "cell_type": "code",
   "execution_count": 34,
   "metadata": {
    "collapsed": false
   },
   "outputs": [
    {
     "name": "stdout",
     "output_type": "stream",
     "text": [
      "0063 0601200250\n"
     ]
    }
   ],
   "source": [
    "print parts[1][0:15]"
   ]
  },
  {
   "cell_type": "code",
   "execution_count": null,
   "metadata": {
    "collapsed": true
   },
   "outputs": [],
   "source": []
  }
 ],
 "metadata": {
  "kernelspec": {
   "display_name": "Python 2",
   "language": "python",
   "name": "python2"
  },
  "language_info": {
   "codemirror_mode": {
    "name": "ipython",
    "version": 2
   },
   "file_extension": ".py",
   "mimetype": "text/x-python",
   "name": "python",
   "nbconvert_exporter": "python",
   "pygments_lexer": "ipython2",
   "version": "2.7.11"
  }
 },
 "nbformat": 4,
 "nbformat_minor": 0
}
