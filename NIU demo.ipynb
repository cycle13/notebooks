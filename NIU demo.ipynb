{
 "cells": [
  {
   "cell_type": "code",
   "execution_count": null,
   "metadata": {},
   "outputs": [],
   "source": [
    "#lets start with some imports\n",
    "\n",
    "#Py-ART, simply the best sowftware around.. Give those guys a grant\n",
    "import pyart\n",
    "\n",
    "#plotting\n",
    "from matplotlib import pyplot as plt\n",
    "\n",
    "#plotting on a maop\n",
    "import cartopy\n",
    "%matplotlib inline"
   ]
  },
  {
   "cell_type": "code",
   "execution_count": null,
   "metadata": {},
   "outputs": [],
   "source": [
    "filename = '/data/Level2_KLOT_20130127_1833.ar2v'"
   ]
  },
  {
   "cell_type": "code",
   "execution_count": null,
   "metadata": {},
   "outputs": [],
   "source": [
    "radar = pyart.io.read(filename)"
   ]
  },
  {
   "cell_type": "code",
   "execution_count": null,
   "metadata": {},
   "outputs": [],
   "source": [
    "my_dis = pyart.graph.RadarDisplay(radar)\n",
    "my_dis.plot_ppi('reflectivity', 0)"
   ]
  },
  {
   "cell_type": "code",
   "execution_count": null,
   "metadata": {},
   "outputs": [],
   "source": [
    "\n",
    "#matplotlib for plotting\n",
    "from matplotlib import pyplot as plt\n",
    "\n",
    "#Boto3 is the AWS SDK\n",
    "import boto3\n",
    "\n",
    "#botocore contains core configuration utilities for boto2 and boto3\n",
    "from botocore.handlers import disable_signing\n",
    "\n",
    "#Tempory files in Python.. A very useful module\n",
    "import tempfile\n",
    "\n",
    "#datetime modules.. very handy!\n",
    "from datetime import datetime\n",
    "\n",
    "#timezone info\n",
    "import pytz\n"
   ]
  },
  {
   "cell_type": "code",
   "execution_count": null,
   "metadata": {},
   "outputs": [],
   "source": [
    "def nearest(items, pivot):\n",
    "    return min(items, key=lambda x: abs(x - pivot))\n",
    "def find_my_key(radar_name, desired_datetime):\n",
    "    \"\"\"\n",
    "    Find the key in Amazon s3 corresponding to a particular radar site and \n",
    "    datetime\n",
    "    \n",
    "    Parameters\n",
    "    ----------\n",
    "    radar_name : str\n",
    "        Four letter radar name\n",
    "    desired_datetime : datetime\n",
    "        The date time desired\n",
    "    Returns\n",
    "    -------\n",
    "    my_key : string\n",
    "        string matching the key for the radar file on AWS s3\n",
    "    \"\"\"\n",
    "    \n",
    "    bucket = \"noaa-nexrad-level2\"\n",
    "    # Create a s3 \"client\"\n",
    "    s3 = boto3.resource('s3')\n",
    "    # Set it to unsigned \n",
    "    s3.meta.client.meta.events.register('choose-signer.s3.*', disable_signing)\n",
    "    aws_radar = s3.Bucket(bucket)\n",
    "    target_string = datetime.strftime(desired_datetime, '%Y/%m/%d/'+radar_name)\n",
    "    my_list_of_keys = [this_object.key for this_object in aws_radar.objects.filter(Prefix=target_string)]\n",
    "    my_list_of_datetimes = []\n",
    "    for obj in aws_radar.objects.filter(Prefix=target_string):\n",
    "        try:\n",
    "            my_list_of_datetimes.append(datetime.strptime(obj.key[20:35], '%Y%m%d_%H%M%S'))\n",
    "        except ValueError:\n",
    "            pass #usually a tar file left in the bucket\n",
    "    my_nearest = nearest(my_list_of_datetimes, desired_datetime)\n",
    "    my_key = my_list_of_keys[my_list_of_datetimes.index(my_nearest)]\n",
    "    return my_key, aws_radar"
   ]
  },
  {
   "cell_type": "code",
   "execution_count": null,
   "metadata": {},
   "outputs": [],
   "source": [
    "print(find_my_key('KLOT', datetime(2011,1,1,20,15)))\n",
    "print(find_my_key('KILX', datetime.utcnow()))\n",
    "print(find_my_key('TJUA', datetime(2017,9,20,9,0)))"
   ]
  },
  {
   "cell_type": "code",
   "execution_count": null,
   "metadata": {},
   "outputs": [],
   "source": [
    "my_key, aws_radar = find_my_key('KHGX', datetime.utcnow())\n",
    "print(my_key)\n",
    "\n",
    "#create a temporary named file\n",
    "localfile = tempfile.NamedTemporaryFile()\n",
    "\n",
    "#fetch the data from AWS S3\n",
    "aws_radar.download_file(my_key, localfile.name)\n",
    "\n",
    "#read that file into Py-ART!\n",
    "radar = pyart.io.read(localfile.name)"
   ]
  },
  {
   "cell_type": "code",
   "execution_count": null,
   "metadata": {},
   "outputs": [],
   "source": [
    "my_fig = plt.figure(figsize = [10,8])\n",
    "myd = pyart.graph.RadarDisplay(radar)\n",
    "myd.plot_ppi('reflectivity',0)"
   ]
  },
  {
   "cell_type": "code",
   "execution_count": null,
   "metadata": {},
   "outputs": [],
   "source": [
    "#Lets look at Hurricane Maria\n",
    "maria_datetime = datetime(2017,9,20,9,0)\n",
    "\n",
    "#grab the key for Maria\n",
    "my_key, aws_radar = find_my_key('TJUA', maria_datetime)\n",
    "print(my_key)\n",
    "\n",
    "#create a temporary named file\n",
    "localfile = tempfile.NamedTemporaryFile()\n",
    "\n",
    "#fetch the data from AWS S3\n",
    "aws_radar.download_file(my_key, localfile.name)\n",
    "\n",
    "#read that file into Py-ART!\n",
    "radar = pyart.io.read(localfile.name)\n",
    "\n",
    "#Sweep we want to plot\n",
    "sweep = 0\n",
    "\n",
    "#Get the date at the start of collection\n",
    "index_at_start = radar.sweep_start_ray_index['data'][sweep]\n",
    "time_at_start_of_radar = pyart.io.cfradial.netCDF4.num2date(radar.time['data'][index_at_start], \n",
    "                                  radar.time['units'])\n",
    "\n",
    "#make a nice time stamp\n",
    "pacific = pytz.timezone('US/Eastern')\n",
    "local_time = pacific.fromutc(time_at_start_of_radar)\n",
    "fancy_date_string = local_time.strftime('%A %B %d at %I:%M %p %Z')\n",
    "print(fancy_date_string)\n",
    "#Set up our figure\n",
    "fig = plt.figure(figsize = [10,8])\n",
    "\n",
    "#create a Cartopy Py-ART display object\n",
    "display = pyart.graph.RadarMapDisplayCartopy(radar)\n",
    "\n",
    "#get center of the display for the projection\n",
    "lat_0 = display.loc[0]\n",
    "lon_0 = display.loc[1]\n",
    "\n",
    "# Main difference from Basemap! \n",
    "#Cartopy forces you to select a projection first!\n",
    "projection = cartopy.crs.Mercator(\n",
    "                central_longitude=lon_0,\n",
    "                min_latitude=15, max_latitude=20)\n",
    "\n",
    "title = 'TJUA \\n' + fancy_date_string\n",
    "\n",
    "#plot a PPI! add coastline at 10m resolution\n",
    "display.plot_ppi_map(\n",
    "    'reflectivity', sweep, colorbar_flag=True,\n",
    "    title=title,\n",
    "    projection=projection,\n",
    "    min_lon=-67, max_lon=-65, min_lat=17, max_lat=19,\n",
    "    vmin=-12, vmax=64, resolution='10m', \n",
    "    cmap=pyart.graph.cm.LangRainbow12)\n",
    "\n",
    "# Mark the radar\n",
    "display.plot_point(lon_0, lat_0, label_text='TJUA')\n",
    "\n",
    "# Plot some lat and lon lines\n",
    "gl = display.ax.gridlines(draw_labels=True,\n",
    "                          linewidth=2, color='gray', alpha=0.5, linestyle='--')\n",
    "gl.xlabels_top = False\n",
    "gl.ylabels_right = False"
   ]
  },
  {
   "cell_type": "code",
   "execution_count": null,
   "metadata": {},
   "outputs": [],
   "source": []
  }
 ],
 "metadata": {
  "kernelspec": {
   "display_name": "Python 3",
   "language": "python",
   "name": "python3"
  },
  "language_info": {
   "codemirror_mode": {
    "name": "ipython",
    "version": 3
   },
   "file_extension": ".py",
   "mimetype": "text/x-python",
   "name": "python",
   "nbconvert_exporter": "python",
   "pygments_lexer": "ipython3",
   "version": "3.6.5"
  }
 },
 "nbformat": 4,
 "nbformat_minor": 2
}
