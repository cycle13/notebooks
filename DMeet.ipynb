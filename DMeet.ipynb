{
 "cells": [
  {
   "cell_type": "markdown",
   "metadata": {
    "slideshow": {
     "slide_type": "notes"
    }
   },
   "source": [
    "20 minute talk, \n",
    "15 minutes yapping, 5 minutes questions \n",
    "\n",
    "Begin: \n",
    "-Give some history.. Talk about NCAR's contribution.. Stovepiped non-interactive\n",
    "- Py-ART, data model driven design\n",
    "- A history of the ingests and how one by one ingests have been added.\n",
    "- Enter wradlib, Use of wradlib code as a low level optional dependancy.. Contrast wradlib and Py-art, Where is the magic? \n",
    "- Py-art use inside of DoE, use in radar processing\n",
    "- Py-ART use outside of DoE, Teaching (Steve), operations (Anderson)\n",
    "- Py-ART as a dependancy, ART-View.. \n",
    "- What is the future, grid data model. \n",
    "\n"
   ]
  },
  {
   "cell_type": "markdown",
   "metadata": {
    "slideshow": {
     "slide_type": "slide"
    }
   },
   "source": [
    "#Radar tools and data for LES project\n",
    "\n"
   ]
  },
  {
   "cell_type": "markdown",
   "metadata": {
    "slideshow": {
     "slide_type": "fragment"
    }
   },
   "source": [
    "\n",
    "- Scott Collis, Argonne National Laboratory\n",
    "- Jonathan Helmus, Argonne National Laboratory\n",
    "\n",
    "<div>\n",
    "    <img class=\"logo\" src=\"./python-logo.png\" height=\"100\" width=\"250\" align=\"left\"/>\n",
    "    <img class=\"logo\" src=\"./arm_logo.png\" height=\"100\" width=\"250\" align=\"right\"/>\n",
    "</div>\n",
    "<img class=\"logo\" src=\"./argonne_logo.png\" height=\"100\" width=\"250\" align='center'/>\n",
    "\n"
   ]
  },
  {
   "cell_type": "markdown",
   "metadata": {
    "slideshow": {
     "slide_type": "slide"
    }
   },
   "source": [
    "#The Challenge"
   ]
  },
  {
   "cell_type": "markdown",
   "metadata": {
    "slideshow": {
     "slide_type": "fragment"
    }
   },
   "source": [
    "- The ARM Radars have been in a constant phase of development and have never reached a stable baseline. "
   ]
  },
  {
   "cell_type": "markdown",
   "metadata": {
    "slideshow": {
     "slide_type": "fragment"
    }
   },
   "source": [
    "- The state of retrieval science is also evolving. And stakeholders have different desires from the data."
   ]
  },
  {
   "cell_type": "markdown",
   "metadata": {
    "slideshow": {
     "slide_type": "fragment"
    }
   },
   "source": [
    "- We are also learning as we go"
   ]
  },
  {
   "cell_type": "markdown",
   "metadata": {
    "slideshow": {
     "slide_type": "fragment"
    }
   },
   "source": [
    "- Effectively we are building the tracks before the train, and the LASSO is a key example of this as we not piviot to fulfill the needs of this vital stakeholder. Five years ago when I started the idea of routine LES runs was not on the (ahem) radar."
   ]
  },
  {
   "cell_type": "markdown",
   "metadata": {
    "slideshow": {
     "slide_type": "slide"
    }
   },
   "source": [
    "<img src='./valley.png' width = 80%>"
   ]
  },
  {
   "cell_type": "markdown",
   "metadata": {
    "slideshow": {
     "slide_type": "slide"
    }
   },
   "source": [
    "#The Agile Solution"
   ]
  },
  {
   "cell_type": "markdown",
   "metadata": {
    "slideshow": {
     "slide_type": "fragment"
    }
   },
   "source": [
    "- VAPS (NetCDF files, CMAC, MMCG, QPE, CONVV, SACRCORR) are an end product of a lot of moving parts. We have made these files available before but not the working components. "
   ]
  },
  {
   "cell_type": "markdown",
   "metadata": {
    "slideshow": {
     "slide_type": "slide"
    }
   },
   "source": [
    "#Us..."
   ]
  },
  {
   "cell_type": "markdown",
   "metadata": {
    "slideshow": {
     "slide_type": "fragment"
    }
   },
   "source": [
    "- Philosophy is repoducable science through open source tools"
   ]
  },
  {
   "cell_type": "markdown",
   "metadata": {
    "slideshow": {
     "slide_type": "fragment"
    }
   },
   "source": [
    "- Py-ART is the first of these tools"
   ]
  },
  {
   "cell_type": "markdown",
   "metadata": {
    "slideshow": {
     "slide_type": "fragment"
    }
   },
   "source": [
    "- Py-ART breaks radar retrievals down into finite manage"
   ]
  }
 ],
 "metadata": {
  "celltoolbar": "Slideshow",
  "kernelspec": {
   "display_name": "Python 2",
   "language": "python",
   "name": "python2"
  },
  "language_info": {
   "codemirror_mode": {
    "name": "ipython",
    "version": 2
   },
   "file_extension": ".py",
   "mimetype": "text/x-python",
   "name": "python",
   "nbconvert_exporter": "python",
   "pygments_lexer": "ipython2",
   "version": "2.7.10"
  }
 },
 "nbformat": 4,
 "nbformat_minor": 0
}
